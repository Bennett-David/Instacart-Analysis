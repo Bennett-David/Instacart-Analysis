{
 "cells": [
  {
   "cell_type": "markdown",
   "id": "1c356d0b",
   "metadata": {},
   "source": [
    "# Table of Conents\n",
    "\n",
    "### 01: Importing libraries\n",
    "### 03: Python Data Types\n",
    "### Bonus Task\n"
   ]
  },
  {
   "cell_type": "markdown",
   "id": "d7dedefb",
   "metadata": {},
   "source": [
    "## 01: Importing Libraries "
   ]
  },
  {
   "cell_type": "markdown",
   "id": "d5deb1bd",
   "metadata": {},
   "source": [
    "## Step 5"
   ]
  },
  {
   "cell_type": "code",
   "execution_count": 1,
   "id": "f7db5489",
   "metadata": {},
   "outputs": [],
   "source": [
    "# Import libraries\n",
    "import pandas as pd\n",
    "import numpy as np\n",
    "import os"
   ]
  },
  {
   "cell_type": "markdown",
   "id": "0bdff309",
   "metadata": {},
   "source": [
    "## 02: Python Data Types"
   ]
  },
  {
   "cell_type": "markdown",
   "id": "d1ea5bb3",
   "metadata": {},
   "source": [
    "### Step 7: Code 3 different ways of reaching result of 100 by adding/subtracting "
   ]
  },
  {
   "cell_type": "code",
   "execution_count": 1,
   "id": "9b41978b",
   "metadata": {},
   "outputs": [],
   "source": [
    "# assigning value to variable a\n",
    "a = 10"
   ]
  },
  {
   "cell_type": "code",
   "execution_count": 2,
   "id": "80739939",
   "metadata": {},
   "outputs": [],
   "source": [
    "# assigning value to variable b\n",
    "b = 50"
   ]
  },
  {
   "cell_type": "code",
   "execution_count": 7,
   "id": "0031881f",
   "metadata": {},
   "outputs": [],
   "source": [
    "# assigning value to variable c\n",
    "c = 200"
   ]
  },
  {
   "cell_type": "code",
   "execution_count": 5,
   "id": "d726d0cb",
   "metadata": {},
   "outputs": [
    {
     "data": {
      "text/plain": [
       "100"
      ]
     },
     "execution_count": 5,
     "metadata": {},
     "output_type": "execute_result"
    }
   ],
   "source": [
    "# adding variables \n",
    "a + a + a + a + a + b"
   ]
  },
  {
   "cell_type": "code",
   "execution_count": 8,
   "id": "a69dfbd6",
   "metadata": {},
   "outputs": [
    {
     "data": {
      "text/plain": [
       "100"
      ]
     },
     "execution_count": 8,
     "metadata": {},
     "output_type": "execute_result"
    }
   ],
   "source": [
    "#subtracting variables\n",
    "c - b - b"
   ]
  },
  {
   "cell_type": "code",
   "execution_count": 3,
   "id": "fa4dd4a8",
   "metadata": {},
   "outputs": [
    {
     "data": {
      "text/plain": [
       "100"
      ]
     },
     "execution_count": 3,
     "metadata": {},
     "output_type": "execute_result"
    }
   ],
   "source": [
    "# adding variables\n",
    "b + b"
   ]
  },
  {
   "cell_type": "markdown",
   "id": "0ab9d502",
   "metadata": {},
   "source": [
    "### Step 8: Code 2 floating-point variables ad dived them by each other"
   ]
  },
  {
   "cell_type": "code",
   "execution_count": 9,
   "id": "53961d1c",
   "metadata": {},
   "outputs": [],
   "source": [
    "# assign value to variable \n",
    "d = 10.5"
   ]
  },
  {
   "cell_type": "code",
   "execution_count": 11,
   "id": "381dc119",
   "metadata": {},
   "outputs": [],
   "source": [
    "# assign value to variable \n",
    "e = 2"
   ]
  },
  {
   "cell_type": "code",
   "execution_count": 13,
   "id": "80e5b390",
   "metadata": {},
   "outputs": [
    {
     "data": {
      "text/plain": [
       "5.25"
      ]
     },
     "execution_count": 13,
     "metadata": {},
     "output_type": "execute_result"
    }
   ],
   "source": [
    "# divide variables \n",
    "d / e"
   ]
  },
  {
   "cell_type": "markdown",
   "id": "40b43ca4",
   "metadata": {},
   "source": [
    "### Step 9: Construct short word made of separate strings "
   ]
  },
  {
   "cell_type": "code",
   "execution_count": 1,
   "id": "d7c82ccb",
   "metadata": {},
   "outputs": [],
   "source": [
    "# assign string value to variable\n",
    "f = 'ne'"
   ]
  },
  {
   "cell_type": "code",
   "execution_count": 15,
   "id": "cfc319bc",
   "metadata": {},
   "outputs": [],
   "source": [
    "# assign string value to variable\n",
    "g = 'at'"
   ]
  },
  {
   "cell_type": "code",
   "execution_count": 16,
   "id": "4fdccf62",
   "metadata": {},
   "outputs": [
    {
     "data": {
      "text/plain": [
       "'neat'"
      ]
     },
     "execution_count": 16,
     "metadata": {},
     "output_type": "execute_result"
    }
   ],
   "source": [
    "# adding variables to construct word\n",
    "f + g"
   ]
  },
  {
   "cell_type": "markdown",
   "id": "dadbf264",
   "metadata": {},
   "source": [
    "### Step 10a: Construct 2 short sentences made up of separate strings"
   ]
  },
  {
   "cell_type": "code",
   "execution_count": 24,
   "id": "8bf57de5",
   "metadata": {},
   "outputs": [],
   "source": [
    "# assign string value to variable\n",
    "h = 'Python '"
   ]
  },
  {
   "cell_type": "code",
   "execution_count": 25,
   "id": "e8044963",
   "metadata": {},
   "outputs": [],
   "source": [
    "# assign string value to variable\n",
    "i = 'seems '"
   ]
  },
  {
   "cell_type": "code",
   "execution_count": 26,
   "id": "a0518a4f",
   "metadata": {},
   "outputs": [],
   "source": [
    "# assign string value to variable\n",
    "j = 'pretty '"
   ]
  },
  {
   "cell_type": "code",
   "execution_count": 27,
   "id": "11400bf7",
   "metadata": {},
   "outputs": [
    {
     "data": {
      "text/plain": [
       "'Python seems pretty neat'"
      ]
     },
     "execution_count": 27,
     "metadata": {},
     "output_type": "execute_result"
    }
   ],
   "source": [
    "# adding variables to construct sentence \n",
    "h + i + j + f + g"
   ]
  },
  {
   "cell_type": "markdown",
   "id": "6f8d9a38",
   "metadata": {},
   "source": [
    "### Step 10b: 2nd sentence"
   ]
  },
  {
   "cell_type": "code",
   "execution_count": 43,
   "id": "10805aaa",
   "metadata": {},
   "outputs": [],
   "source": [
    "# assign string value to variable\n",
    "k = 'I '"
   ]
  },
  {
   "cell_type": "code",
   "execution_count": 36,
   "id": "720ffcaf",
   "metadata": {},
   "outputs": [],
   "source": [
    "# assign string value to variable\n",
    "l = 'am '"
   ]
  },
  {
   "cell_type": "code",
   "execution_count": 37,
   "id": "37f540f4",
   "metadata": {},
   "outputs": [],
   "source": [
    "# assign string value to variable\n",
    "m = 'excited '"
   ]
  },
  {
   "cell_type": "code",
   "execution_count": 38,
   "id": "61b49b74",
   "metadata": {},
   "outputs": [],
   "source": [
    "# assign string value to variable\n",
    "n = 'to '"
   ]
  },
  {
   "cell_type": "code",
   "execution_count": 39,
   "id": "385670a5",
   "metadata": {},
   "outputs": [],
   "source": [
    "# assign string value to variable\n",
    "o = 'learn '"
   ]
  },
  {
   "cell_type": "code",
   "execution_count": 40,
   "id": "4d2017e0",
   "metadata": {},
   "outputs": [],
   "source": [
    "# assign string value to variable\n",
    "p = 'more '"
   ]
  },
  {
   "cell_type": "code",
   "execution_count": 41,
   "id": "311662d3",
   "metadata": {},
   "outputs": [],
   "source": [
    "# assign string value to variable\n",
    "q = 'about '"
   ]
  },
  {
   "cell_type": "code",
   "execution_count": 44,
   "id": "8ac1cff2",
   "metadata": {},
   "outputs": [
    {
     "data": {
      "text/plain": [
       "'I am excited to learn more about Python '"
      ]
     },
     "execution_count": 44,
     "metadata": {},
     "output_type": "execute_result"
    }
   ],
   "source": [
    "# adding variables to construct sentence \n",
    "k + l + m + n + o + p + q + h"
   ]
  },
  {
   "cell_type": "markdown",
   "id": "999da7d9",
   "metadata": {},
   "source": [
    "## Bonus"
   ]
  },
  {
   "cell_type": "code",
   "execution_count": 45,
   "id": "f82de17f",
   "metadata": {},
   "outputs": [
    {
     "data": {
      "text/plain": [
       "'Python Python Python Python Python Python Python Python Python Python Python Python Python Python Python Python Python Python Python Python Python Python Python Python Python Python Python Python Python Python Python Python Python Python Python Python Python Python Python Python Python Python Python Python Python Python Python Python Python Python Python Python Python Python Python Python Python Python Python Python Python Python Python Python Python Python Python Python Python Python Python Python Python Python Python Python Python Python Python Python Python Python Python Python Python Python Python Python Python Python Python Python Python Python Python Python Python Python Python Python '"
      ]
     },
     "execution_count": 45,
     "metadata": {},
     "output_type": "execute_result"
    }
   ],
   "source": [
    "h * 100"
   ]
  }
 ],
 "metadata": {
  "kernelspec": {
   "display_name": "Python 3 (ipykernel)",
   "language": "python",
   "name": "python3"
  },
  "language_info": {
   "codemirror_mode": {
    "name": "ipython",
    "version": 3
   },
   "file_extension": ".py",
   "mimetype": "text/x-python",
   "name": "python",
   "nbconvert_exporter": "python",
   "pygments_lexer": "ipython3",
   "version": "3.9.7"
  }
 },
 "nbformat": 4,
 "nbformat_minor": 5
}
