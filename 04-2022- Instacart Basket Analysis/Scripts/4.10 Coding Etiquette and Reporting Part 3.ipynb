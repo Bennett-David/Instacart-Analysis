{
 "cells": [
  {
   "cell_type": "markdown",
   "id": "8567eac7",
   "metadata": {},
   "source": [
    "# Table of Contents\n",
    "### Import libraries \n",
    "### Step 7: Aggregate max, mean, min variables on customer-profile level\n",
    "### Step 8: Compare profiles w/regions and departments \n",
    "### Step 9: Produce charts to illustrate results and export"
   ]
  },
  {
   "cell_type": "code",
   "execution_count": 1,
   "id": "4565cd3d",
   "metadata": {},
   "outputs": [],
   "source": [
    "# Import libraries \n",
    "import pandas as pd\n",
    "import numpy as np\n",
    "import os\n",
    "import matplotlib.pyplot as plt\n",
    "import seaborn as sns\n",
    "import scipy"
   ]
  },
  {
   "cell_type": "code",
   "execution_count": 2,
   "id": "7a63a5a6",
   "metadata": {},
   "outputs": [],
   "source": [
    "# turning folder path into string\n",
    "path = r'/Users/davesmac/Desktop/04-2022- Instacart Basket Analysis'"
   ]
  },
  {
   "cell_type": "code",
   "execution_count": 3,
   "id": "5e8ce487",
   "metadata": {},
   "outputs": [],
   "source": [
    "# Import orders_products_all df\n",
    "ords_prods_all = pd.read_pickle(os.path.join(path, '02 Data', 'Prepared Data', 'ords_prods_all.pkl,'))"
   ]
  },
  {
   "cell_type": "code",
   "execution_count": 4,
   "id": "73424d30",
   "metadata": {},
   "outputs": [],
   "source": [
    "pd.set_option('display.max_columns', None)\n",
    "pd.set_option('display.max_rows', None)"
   ]
  },
  {
   "cell_type": "code",
   "execution_count": 5,
   "id": "a3b36cad",
   "metadata": {},
   "outputs": [
    {
     "data": {
      "text/html": [
       "<div>\n",
       "<style scoped>\n",
       "    .dataframe tbody tr th:only-of-type {\n",
       "        vertical-align: middle;\n",
       "    }\n",
       "\n",
       "    .dataframe tbody tr th {\n",
       "        vertical-align: top;\n",
       "    }\n",
       "\n",
       "    .dataframe thead th {\n",
       "        text-align: right;\n",
       "    }\n",
       "</style>\n",
       "<table border=\"1\" class=\"dataframe\">\n",
       "  <thead>\n",
       "    <tr style=\"text-align: right;\">\n",
       "      <th></th>\n",
       "      <th>order_id</th>\n",
       "      <th>user_id</th>\n",
       "      <th>order_number</th>\n",
       "      <th>orders_day_of_week</th>\n",
       "      <th>order_hour_of_day</th>\n",
       "      <th>days_since_prior_order</th>\n",
       "      <th>first_order</th>\n",
       "      <th>product_id</th>\n",
       "      <th>add_to_cart_order</th>\n",
       "      <th>reordered</th>\n",
       "      <th>product_name</th>\n",
       "      <th>aisle_id</th>\n",
       "      <th>department_id</th>\n",
       "      <th>prices</th>\n",
       "      <th>price_label</th>\n",
       "      <th>Busiest_days</th>\n",
       "      <th>busiest_period_of_day</th>\n",
       "      <th>max_order</th>\n",
       "      <th>loyalty_flag</th>\n",
       "      <th>avg_price_per_order</th>\n",
       "      <th>spender_flag</th>\n",
       "      <th>order_frequency</th>\n",
       "      <th>order_frequency_flag</th>\n",
       "      <th>Gender</th>\n",
       "      <th>STATE</th>\n",
       "      <th>Age</th>\n",
       "      <th>date_joined</th>\n",
       "      <th>n_dependants</th>\n",
       "      <th>marital_status</th>\n",
       "      <th>income</th>\n",
       "      <th>_merge</th>\n",
       "      <th>Region</th>\n",
       "      <th>age_group</th>\n",
       "      <th>income_level</th>\n",
       "      <th>family_status_loc</th>\n",
       "      <th>department</th>\n",
       "    </tr>\n",
       "  </thead>\n",
       "  <tbody>\n",
       "    <tr>\n",
       "      <th>0</th>\n",
       "      <td>2539329.0</td>\n",
       "      <td>1.0</td>\n",
       "      <td>1.0</td>\n",
       "      <td>2.0</td>\n",
       "      <td>8.0</td>\n",
       "      <td>NaN</td>\n",
       "      <td>True</td>\n",
       "      <td>196.0</td>\n",
       "      <td>1.0</td>\n",
       "      <td>0.0</td>\n",
       "      <td>Soda</td>\n",
       "      <td>77.0</td>\n",
       "      <td>7.0</td>\n",
       "      <td>9.0</td>\n",
       "      <td>Mid-range product</td>\n",
       "      <td>Regular busy</td>\n",
       "      <td>Average orders</td>\n",
       "      <td>10.0</td>\n",
       "      <td>new customer</td>\n",
       "      <td>6.367797</td>\n",
       "      <td>Low Spender</td>\n",
       "      <td>20.259259</td>\n",
       "      <td>Non-frequent customer</td>\n",
       "      <td>Female</td>\n",
       "      <td>Alabama</td>\n",
       "      <td>31</td>\n",
       "      <td>2/17/2019</td>\n",
       "      <td>3</td>\n",
       "      <td>married</td>\n",
       "      <td>40423</td>\n",
       "      <td>both</td>\n",
       "      <td>South</td>\n",
       "      <td>young adult</td>\n",
       "      <td>low income</td>\n",
       "      <td>parent</td>\n",
       "      <td>beverages</td>\n",
       "    </tr>\n",
       "    <tr>\n",
       "      <th>1</th>\n",
       "      <td>2398795.0</td>\n",
       "      <td>1.0</td>\n",
       "      <td>2.0</td>\n",
       "      <td>3.0</td>\n",
       "      <td>7.0</td>\n",
       "      <td>15.0</td>\n",
       "      <td>False</td>\n",
       "      <td>196.0</td>\n",
       "      <td>1.0</td>\n",
       "      <td>1.0</td>\n",
       "      <td>Soda</td>\n",
       "      <td>77.0</td>\n",
       "      <td>7.0</td>\n",
       "      <td>9.0</td>\n",
       "      <td>Mid-range product</td>\n",
       "      <td>Slowest days</td>\n",
       "      <td>Average orders</td>\n",
       "      <td>10.0</td>\n",
       "      <td>new customer</td>\n",
       "      <td>6.367797</td>\n",
       "      <td>Low Spender</td>\n",
       "      <td>20.259259</td>\n",
       "      <td>Non-frequent customer</td>\n",
       "      <td>Female</td>\n",
       "      <td>Alabama</td>\n",
       "      <td>31</td>\n",
       "      <td>2/17/2019</td>\n",
       "      <td>3</td>\n",
       "      <td>married</td>\n",
       "      <td>40423</td>\n",
       "      <td>both</td>\n",
       "      <td>South</td>\n",
       "      <td>young adult</td>\n",
       "      <td>low income</td>\n",
       "      <td>parent</td>\n",
       "      <td>beverages</td>\n",
       "    </tr>\n",
       "    <tr>\n",
       "      <th>2</th>\n",
       "      <td>473747.0</td>\n",
       "      <td>1.0</td>\n",
       "      <td>3.0</td>\n",
       "      <td>3.0</td>\n",
       "      <td>12.0</td>\n",
       "      <td>21.0</td>\n",
       "      <td>False</td>\n",
       "      <td>196.0</td>\n",
       "      <td>1.0</td>\n",
       "      <td>1.0</td>\n",
       "      <td>Soda</td>\n",
       "      <td>77.0</td>\n",
       "      <td>7.0</td>\n",
       "      <td>9.0</td>\n",
       "      <td>Mid-range product</td>\n",
       "      <td>Slowest days</td>\n",
       "      <td>Average orders</td>\n",
       "      <td>10.0</td>\n",
       "      <td>new customer</td>\n",
       "      <td>6.367797</td>\n",
       "      <td>Low Spender</td>\n",
       "      <td>20.259259</td>\n",
       "      <td>Non-frequent customer</td>\n",
       "      <td>Female</td>\n",
       "      <td>Alabama</td>\n",
       "      <td>31</td>\n",
       "      <td>2/17/2019</td>\n",
       "      <td>3</td>\n",
       "      <td>married</td>\n",
       "      <td>40423</td>\n",
       "      <td>both</td>\n",
       "      <td>South</td>\n",
       "      <td>young adult</td>\n",
       "      <td>low income</td>\n",
       "      <td>parent</td>\n",
       "      <td>beverages</td>\n",
       "    </tr>\n",
       "    <tr>\n",
       "      <th>3</th>\n",
       "      <td>2254736.0</td>\n",
       "      <td>1.0</td>\n",
       "      <td>4.0</td>\n",
       "      <td>4.0</td>\n",
       "      <td>7.0</td>\n",
       "      <td>29.0</td>\n",
       "      <td>False</td>\n",
       "      <td>196.0</td>\n",
       "      <td>1.0</td>\n",
       "      <td>1.0</td>\n",
       "      <td>Soda</td>\n",
       "      <td>77.0</td>\n",
       "      <td>7.0</td>\n",
       "      <td>9.0</td>\n",
       "      <td>Mid-range product</td>\n",
       "      <td>Slowest days</td>\n",
       "      <td>Average orders</td>\n",
       "      <td>10.0</td>\n",
       "      <td>new customer</td>\n",
       "      <td>6.367797</td>\n",
       "      <td>Low Spender</td>\n",
       "      <td>20.259259</td>\n",
       "      <td>Non-frequent customer</td>\n",
       "      <td>Female</td>\n",
       "      <td>Alabama</td>\n",
       "      <td>31</td>\n",
       "      <td>2/17/2019</td>\n",
       "      <td>3</td>\n",
       "      <td>married</td>\n",
       "      <td>40423</td>\n",
       "      <td>both</td>\n",
       "      <td>South</td>\n",
       "      <td>young adult</td>\n",
       "      <td>low income</td>\n",
       "      <td>parent</td>\n",
       "      <td>beverages</td>\n",
       "    </tr>\n",
       "    <tr>\n",
       "      <th>4</th>\n",
       "      <td>431534.0</td>\n",
       "      <td>1.0</td>\n",
       "      <td>5.0</td>\n",
       "      <td>4.0</td>\n",
       "      <td>15.0</td>\n",
       "      <td>28.0</td>\n",
       "      <td>False</td>\n",
       "      <td>196.0</td>\n",
       "      <td>1.0</td>\n",
       "      <td>1.0</td>\n",
       "      <td>Soda</td>\n",
       "      <td>77.0</td>\n",
       "      <td>7.0</td>\n",
       "      <td>9.0</td>\n",
       "      <td>Mid-range product</td>\n",
       "      <td>Slowest days</td>\n",
       "      <td>Average orders</td>\n",
       "      <td>10.0</td>\n",
       "      <td>new customer</td>\n",
       "      <td>6.367797</td>\n",
       "      <td>Low Spender</td>\n",
       "      <td>20.259259</td>\n",
       "      <td>Non-frequent customer</td>\n",
       "      <td>Female</td>\n",
       "      <td>Alabama</td>\n",
       "      <td>31</td>\n",
       "      <td>2/17/2019</td>\n",
       "      <td>3</td>\n",
       "      <td>married</td>\n",
       "      <td>40423</td>\n",
       "      <td>both</td>\n",
       "      <td>South</td>\n",
       "      <td>young adult</td>\n",
       "      <td>low income</td>\n",
       "      <td>parent</td>\n",
       "      <td>beverages</td>\n",
       "    </tr>\n",
       "  </tbody>\n",
       "</table>\n",
       "</div>"
      ],
      "text/plain": [
       "    order_id  user_id  order_number  orders_day_of_week  order_hour_of_day  \\\n",
       "0  2539329.0      1.0           1.0                 2.0                8.0   \n",
       "1  2398795.0      1.0           2.0                 3.0                7.0   \n",
       "2   473747.0      1.0           3.0                 3.0               12.0   \n",
       "3  2254736.0      1.0           4.0                 4.0                7.0   \n",
       "4   431534.0      1.0           5.0                 4.0               15.0   \n",
       "\n",
       "   days_since_prior_order first_order  product_id  add_to_cart_order  \\\n",
       "0                     NaN        True       196.0                1.0   \n",
       "1                    15.0       False       196.0                1.0   \n",
       "2                    21.0       False       196.0                1.0   \n",
       "3                    29.0       False       196.0                1.0   \n",
       "4                    28.0       False       196.0                1.0   \n",
       "\n",
       "   reordered product_name  aisle_id  department_id  prices        price_label  \\\n",
       "0        0.0         Soda      77.0            7.0     9.0  Mid-range product   \n",
       "1        1.0         Soda      77.0            7.0     9.0  Mid-range product   \n",
       "2        1.0         Soda      77.0            7.0     9.0  Mid-range product   \n",
       "3        1.0         Soda      77.0            7.0     9.0  Mid-range product   \n",
       "4        1.0         Soda      77.0            7.0     9.0  Mid-range product   \n",
       "\n",
       "   Busiest_days busiest_period_of_day  max_order  loyalty_flag  \\\n",
       "0  Regular busy        Average orders       10.0  new customer   \n",
       "1  Slowest days        Average orders       10.0  new customer   \n",
       "2  Slowest days        Average orders       10.0  new customer   \n",
       "3  Slowest days        Average orders       10.0  new customer   \n",
       "4  Slowest days        Average orders       10.0  new customer   \n",
       "\n",
       "   avg_price_per_order spender_flag  order_frequency   order_frequency_flag  \\\n",
       "0             6.367797  Low Spender        20.259259  Non-frequent customer   \n",
       "1             6.367797  Low Spender        20.259259  Non-frequent customer   \n",
       "2             6.367797  Low Spender        20.259259  Non-frequent customer   \n",
       "3             6.367797  Low Spender        20.259259  Non-frequent customer   \n",
       "4             6.367797  Low Spender        20.259259  Non-frequent customer   \n",
       "\n",
       "   Gender    STATE  Age date_joined  n_dependants marital_status  income  \\\n",
       "0  Female  Alabama   31   2/17/2019             3        married   40423   \n",
       "1  Female  Alabama   31   2/17/2019             3        married   40423   \n",
       "2  Female  Alabama   31   2/17/2019             3        married   40423   \n",
       "3  Female  Alabama   31   2/17/2019             3        married   40423   \n",
       "4  Female  Alabama   31   2/17/2019             3        married   40423   \n",
       "\n",
       "  _merge Region    age_group income_level family_status_loc department  \n",
       "0   both  South  young adult   low income            parent  beverages  \n",
       "1   both  South  young adult   low income            parent  beverages  \n",
       "2   both  South  young adult   low income            parent  beverages  \n",
       "3   both  South  young adult   low income            parent  beverages  \n",
       "4   both  South  young adult   low income            parent  beverages  "
      ]
     },
     "execution_count": 5,
     "metadata": {},
     "output_type": "execute_result"
    }
   ],
   "source": [
    "ords_prods_all.head()"
   ]
  },
  {
   "cell_type": "markdown",
   "id": "19e247c7",
   "metadata": {},
   "source": [
    "### Step 7: Aggregate max, mean, min variables on customer-profile level"
   ]
  },
  {
   "cell_type": "code",
   "execution_count": 6,
   "id": "1859f40e",
   "metadata": {},
   "outputs": [],
   "source": [
    "# Aggregrate income_level profile\n",
    "income_level_agg = ords_prods_all.groupby('income_level').agg({'order_number' : ['min', 'mean', 'max']})"
   ]
  },
  {
   "cell_type": "code",
   "execution_count": 7,
   "id": "52b777cc",
   "metadata": {},
   "outputs": [
    {
     "data": {
      "text/html": [
       "<div>\n",
       "<style scoped>\n",
       "    .dataframe tbody tr th:only-of-type {\n",
       "        vertical-align: middle;\n",
       "    }\n",
       "\n",
       "    .dataframe tbody tr th {\n",
       "        vertical-align: top;\n",
       "    }\n",
       "\n",
       "    .dataframe thead tr th {\n",
       "        text-align: left;\n",
       "    }\n",
       "\n",
       "    .dataframe thead tr:last-of-type th {\n",
       "        text-align: right;\n",
       "    }\n",
       "</style>\n",
       "<table border=\"1\" class=\"dataframe\">\n",
       "  <thead>\n",
       "    <tr>\n",
       "      <th></th>\n",
       "      <th colspan=\"3\" halign=\"left\">order_number</th>\n",
       "    </tr>\n",
       "    <tr>\n",
       "      <th></th>\n",
       "      <th>min</th>\n",
       "      <th>mean</th>\n",
       "      <th>max</th>\n",
       "    </tr>\n",
       "    <tr>\n",
       "      <th>income_level</th>\n",
       "      <th></th>\n",
       "      <th></th>\n",
       "      <th></th>\n",
       "    </tr>\n",
       "  </thead>\n",
       "  <tbody>\n",
       "    <tr>\n",
       "      <th>high income</th>\n",
       "      <td>1.0</td>\n",
       "      <td>17.390704</td>\n",
       "      <td>99.0</td>\n",
       "    </tr>\n",
       "    <tr>\n",
       "      <th>low income</th>\n",
       "      <td>1.0</td>\n",
       "      <td>16.181449</td>\n",
       "      <td>99.0</td>\n",
       "    </tr>\n",
       "    <tr>\n",
       "      <th>middle income</th>\n",
       "      <td>1.0</td>\n",
       "      <td>17.306964</td>\n",
       "      <td>99.0</td>\n",
       "    </tr>\n",
       "  </tbody>\n",
       "</table>\n",
       "</div>"
      ],
      "text/plain": [
       "              order_number                 \n",
       "                       min       mean   max\n",
       "income_level                               \n",
       "high income            1.0  17.390704  99.0\n",
       "low income             1.0  16.181449  99.0\n",
       "middle income          1.0  17.306964  99.0"
      ]
     },
     "execution_count": 7,
     "metadata": {},
     "output_type": "execute_result"
    }
   ],
   "source": [
    "income_level_agg"
   ]
  },
  {
   "cell_type": "code",
   "execution_count": 8,
   "id": "6f04ca68",
   "metadata": {},
   "outputs": [],
   "source": [
    "income_level_expen = ords_prods_all.groupby('income_level').agg({'prices' : ['min', 'mean', 'max']})"
   ]
  },
  {
   "cell_type": "code",
   "execution_count": 9,
   "id": "df2604f4",
   "metadata": {},
   "outputs": [
    {
     "data": {
      "text/html": [
       "<div>\n",
       "<style scoped>\n",
       "    .dataframe tbody tr th:only-of-type {\n",
       "        vertical-align: middle;\n",
       "    }\n",
       "\n",
       "    .dataframe tbody tr th {\n",
       "        vertical-align: top;\n",
       "    }\n",
       "\n",
       "    .dataframe thead tr th {\n",
       "        text-align: left;\n",
       "    }\n",
       "\n",
       "    .dataframe thead tr:last-of-type th {\n",
       "        text-align: right;\n",
       "    }\n",
       "</style>\n",
       "<table border=\"1\" class=\"dataframe\">\n",
       "  <thead>\n",
       "    <tr>\n",
       "      <th></th>\n",
       "      <th colspan=\"3\" halign=\"left\">prices</th>\n",
       "    </tr>\n",
       "    <tr>\n",
       "      <th></th>\n",
       "      <th>min</th>\n",
       "      <th>mean</th>\n",
       "      <th>max</th>\n",
       "    </tr>\n",
       "    <tr>\n",
       "      <th>income_level</th>\n",
       "      <th></th>\n",
       "      <th></th>\n",
       "      <th></th>\n",
       "    </tr>\n",
       "  </thead>\n",
       "  <tbody>\n",
       "    <tr>\n",
       "      <th>high income</th>\n",
       "      <td>1.0</td>\n",
       "      <td>7.952021</td>\n",
       "      <td>25.0</td>\n",
       "    </tr>\n",
       "    <tr>\n",
       "      <th>low income</th>\n",
       "      <td>1.0</td>\n",
       "      <td>6.959513</td>\n",
       "      <td>25.0</td>\n",
       "    </tr>\n",
       "    <tr>\n",
       "      <th>middle income</th>\n",
       "      <td>1.0</td>\n",
       "      <td>7.946616</td>\n",
       "      <td>25.0</td>\n",
       "    </tr>\n",
       "  </tbody>\n",
       "</table>\n",
       "</div>"
      ],
      "text/plain": [
       "              prices                \n",
       "                 min      mean   max\n",
       "income_level                        \n",
       "high income      1.0  7.952021  25.0\n",
       "low income       1.0  6.959513  25.0\n",
       "middle income    1.0  7.946616  25.0"
      ]
     },
     "execution_count": 9,
     "metadata": {},
     "output_type": "execute_result"
    }
   ],
   "source": [
    "income_level_expen"
   ]
  },
  {
   "cell_type": "code",
   "execution_count": 10,
   "id": "f42494f7",
   "metadata": {},
   "outputs": [],
   "source": [
    "# Aggregrate family_status profile\n",
    "family_status_agg = ords_prods_all.groupby('family_status_loc').agg({'order_number' : ['min', 'mean', 'max']})"
   ]
  },
  {
   "cell_type": "code",
   "execution_count": 11,
   "id": "3cde046d",
   "metadata": {},
   "outputs": [],
   "source": [
    "#Aggregrate family status expenditure \n",
    "family_status_expen = ords_prods_all.groupby('family_status_loc').agg({'prices' : ['min', 'mean', 'max']})"
   ]
  },
  {
   "cell_type": "code",
   "execution_count": 12,
   "id": "a0746f09",
   "metadata": {},
   "outputs": [
    {
     "data": {
      "text/html": [
       "<div>\n",
       "<style scoped>\n",
       "    .dataframe tbody tr th:only-of-type {\n",
       "        vertical-align: middle;\n",
       "    }\n",
       "\n",
       "    .dataframe tbody tr th {\n",
       "        vertical-align: top;\n",
       "    }\n",
       "\n",
       "    .dataframe thead tr th {\n",
       "        text-align: left;\n",
       "    }\n",
       "\n",
       "    .dataframe thead tr:last-of-type th {\n",
       "        text-align: right;\n",
       "    }\n",
       "</style>\n",
       "<table border=\"1\" class=\"dataframe\">\n",
       "  <thead>\n",
       "    <tr>\n",
       "      <th></th>\n",
       "      <th colspan=\"3\" halign=\"left\">prices</th>\n",
       "    </tr>\n",
       "    <tr>\n",
       "      <th></th>\n",
       "      <th>min</th>\n",
       "      <th>mean</th>\n",
       "      <th>max</th>\n",
       "    </tr>\n",
       "    <tr>\n",
       "      <th>family_status_loc</th>\n",
       "      <th></th>\n",
       "      <th></th>\n",
       "      <th></th>\n",
       "    </tr>\n",
       "  </thead>\n",
       "  <tbody>\n",
       "    <tr>\n",
       "      <th>not a parent</th>\n",
       "      <td>1.0</td>\n",
       "      <td>7.789975</td>\n",
       "      <td>25.0</td>\n",
       "    </tr>\n",
       "    <tr>\n",
       "      <th>parent</th>\n",
       "      <td>1.0</td>\n",
       "      <td>7.791334</td>\n",
       "      <td>25.0</td>\n",
       "    </tr>\n",
       "  </tbody>\n",
       "</table>\n",
       "</div>"
      ],
      "text/plain": [
       "                  prices                \n",
       "                     min      mean   max\n",
       "family_status_loc                       \n",
       "not a parent         1.0  7.789975  25.0\n",
       "parent               1.0  7.791334  25.0"
      ]
     },
     "execution_count": 12,
     "metadata": {},
     "output_type": "execute_result"
    }
   ],
   "source": [
    "family_status_expen"
   ]
  },
  {
   "cell_type": "markdown",
   "id": "f3a8b5bf",
   "metadata": {},
   "source": [
    "### Step 8: Compare profiles w/regions and departments "
   ]
  },
  {
   "cell_type": "code",
   "execution_count": 13,
   "id": "95e9deda",
   "metadata": {},
   "outputs": [],
   "source": [
    "# Compare customer income level w/region\n",
    "income_region_crosstab = pd.crosstab(ords_prods_all['Region'], ords_prods_all['income_level'], dropna = False)"
   ]
  },
  {
   "cell_type": "code",
   "execution_count": 14,
   "id": "c21bfa71",
   "metadata": {},
   "outputs": [
    {
     "data": {
      "text/html": [
       "<div>\n",
       "<style scoped>\n",
       "    .dataframe tbody tr th:only-of-type {\n",
       "        vertical-align: middle;\n",
       "    }\n",
       "\n",
       "    .dataframe tbody tr th {\n",
       "        vertical-align: top;\n",
       "    }\n",
       "\n",
       "    .dataframe thead th {\n",
       "        text-align: right;\n",
       "    }\n",
       "</style>\n",
       "<table border=\"1\" class=\"dataframe\">\n",
       "  <thead>\n",
       "    <tr style=\"text-align: right;\">\n",
       "      <th>income_level</th>\n",
       "      <th>high income</th>\n",
       "      <th>low income</th>\n",
       "      <th>middle income</th>\n",
       "    </tr>\n",
       "    <tr>\n",
       "      <th>Region</th>\n",
       "      <th></th>\n",
       "      <th></th>\n",
       "      <th></th>\n",
       "    </tr>\n",
       "  </thead>\n",
       "  <tbody>\n",
       "    <tr>\n",
       "      <th>Midwest</th>\n",
       "      <td>1288516</td>\n",
       "      <td>1183931</td>\n",
       "      <td>5123618</td>\n",
       "    </tr>\n",
       "    <tr>\n",
       "      <th>Northeast</th>\n",
       "      <td>962819</td>\n",
       "      <td>899880</td>\n",
       "      <td>3859193</td>\n",
       "    </tr>\n",
       "    <tr>\n",
       "      <th>South</th>\n",
       "      <td>1799184</td>\n",
       "      <td>1746866</td>\n",
       "      <td>7244046</td>\n",
       "    </tr>\n",
       "    <tr>\n",
       "      <th>West</th>\n",
       "      <td>1410209</td>\n",
       "      <td>1307207</td>\n",
       "      <td>5574263</td>\n",
       "    </tr>\n",
       "  </tbody>\n",
       "</table>\n",
       "</div>"
      ],
      "text/plain": [
       "income_level  high income  low income  middle income\n",
       "Region                                              \n",
       "Midwest           1288516     1183931        5123618\n",
       "Northeast          962819      899880        3859193\n",
       "South             1799184     1746866        7244046\n",
       "West              1410209     1307207        5574263"
      ]
     },
     "execution_count": 14,
     "metadata": {},
     "output_type": "execute_result"
    }
   ],
   "source": [
    "income_region_crosstab"
   ]
  },
  {
   "cell_type": "code",
   "execution_count": 15,
   "id": "3d727a46",
   "metadata": {},
   "outputs": [],
   "source": [
    "# Compare customer marital status w/region\n",
    "marital_region_crosstab = pd.crosstab(ords_prods_all['Region'], ords_prods_all['marital_status'], dropna = False)"
   ]
  },
  {
   "cell_type": "code",
   "execution_count": 16,
   "id": "3ec3f145",
   "metadata": {},
   "outputs": [
    {
     "data": {
      "text/html": [
       "<div>\n",
       "<style scoped>\n",
       "    .dataframe tbody tr th:only-of-type {\n",
       "        vertical-align: middle;\n",
       "    }\n",
       "\n",
       "    .dataframe tbody tr th {\n",
       "        vertical-align: top;\n",
       "    }\n",
       "\n",
       "    .dataframe thead th {\n",
       "        text-align: right;\n",
       "    }\n",
       "</style>\n",
       "<table border=\"1\" class=\"dataframe\">\n",
       "  <thead>\n",
       "    <tr style=\"text-align: right;\">\n",
       "      <th>marital_status</th>\n",
       "      <th>divorced/widowed</th>\n",
       "      <th>living with parents and siblings</th>\n",
       "      <th>married</th>\n",
       "      <th>single</th>\n",
       "    </tr>\n",
       "    <tr>\n",
       "      <th>Region</th>\n",
       "      <th></th>\n",
       "      <th></th>\n",
       "      <th></th>\n",
       "      <th></th>\n",
       "    </tr>\n",
       "  </thead>\n",
       "  <tbody>\n",
       "    <tr>\n",
       "      <th>Midwest</th>\n",
       "      <td>646320</td>\n",
       "      <td>366483</td>\n",
       "      <td>5324674</td>\n",
       "      <td>1258588</td>\n",
       "    </tr>\n",
       "    <tr>\n",
       "      <th>Northeast</th>\n",
       "      <td>500958</td>\n",
       "      <td>268096</td>\n",
       "      <td>4035710</td>\n",
       "      <td>917128</td>\n",
       "    </tr>\n",
       "    <tr>\n",
       "      <th>South</th>\n",
       "      <td>920709</td>\n",
       "      <td>529481</td>\n",
       "      <td>7559396</td>\n",
       "      <td>1780510</td>\n",
       "    </tr>\n",
       "    <tr>\n",
       "      <th>West</th>\n",
       "      <td>703368</td>\n",
       "      <td>386342</td>\n",
       "      <td>5833275</td>\n",
       "      <td>1368694</td>\n",
       "    </tr>\n",
       "  </tbody>\n",
       "</table>\n",
       "</div>"
      ],
      "text/plain": [
       "marital_status  divorced/widowed  living with parents and siblings  married  \\\n",
       "Region                                                                        \n",
       "Midwest                   646320                            366483  5324674   \n",
       "Northeast                 500958                            268096  4035710   \n",
       "South                     920709                            529481  7559396   \n",
       "West                      703368                            386342  5833275   \n",
       "\n",
       "marital_status   single  \n",
       "Region                   \n",
       "Midwest         1258588  \n",
       "Northeast        917128  \n",
       "South           1780510  \n",
       "West            1368694  "
      ]
     },
     "execution_count": 16,
     "metadata": {},
     "output_type": "execute_result"
    }
   ],
   "source": [
    "marital_region_crosstab"
   ]
  },
  {
   "cell_type": "code",
   "execution_count": 17,
   "id": "ba895a40",
   "metadata": {},
   "outputs": [],
   "source": [
    "# Compare spender flag by region\n",
    "spender_region = pd.crosstab(ords_prods_all['Region'], ords_prods_all['spender_flag'], dropna = False)"
   ]
  },
  {
   "cell_type": "code",
   "execution_count": 18,
   "id": "1f26cbe5",
   "metadata": {
    "scrolled": true
   },
   "outputs": [
    {
     "data": {
      "text/html": [
       "<div>\n",
       "<style scoped>\n",
       "    .dataframe tbody tr th:only-of-type {\n",
       "        vertical-align: middle;\n",
       "    }\n",
       "\n",
       "    .dataframe tbody tr th {\n",
       "        vertical-align: top;\n",
       "    }\n",
       "\n",
       "    .dataframe thead th {\n",
       "        text-align: right;\n",
       "    }\n",
       "</style>\n",
       "<table border=\"1\" class=\"dataframe\">\n",
       "  <thead>\n",
       "    <tr style=\"text-align: right;\">\n",
       "      <th>spender_flag</th>\n",
       "      <th>High Spender</th>\n",
       "      <th>Low Spender</th>\n",
       "    </tr>\n",
       "    <tr>\n",
       "      <th>Region</th>\n",
       "      <th></th>\n",
       "      <th></th>\n",
       "    </tr>\n",
       "  </thead>\n",
       "  <tbody>\n",
       "    <tr>\n",
       "      <th>Midwest</th>\n",
       "      <td>154715</td>\n",
       "      <td>7441350</td>\n",
       "    </tr>\n",
       "    <tr>\n",
       "      <th>Northeast</th>\n",
       "      <td>107381</td>\n",
       "      <td>5614511</td>\n",
       "    </tr>\n",
       "    <tr>\n",
       "      <th>South</th>\n",
       "      <td>207902</td>\n",
       "      <td>10582194</td>\n",
       "    </tr>\n",
       "    <tr>\n",
       "      <th>West</th>\n",
       "      <td>159120</td>\n",
       "      <td>8132559</td>\n",
       "    </tr>\n",
       "  </tbody>\n",
       "</table>\n",
       "</div>"
      ],
      "text/plain": [
       "spender_flag  High Spender  Low Spender\n",
       "Region                                 \n",
       "Midwest             154715      7441350\n",
       "Northeast           107381      5614511\n",
       "South               207902     10582194\n",
       "West                159120      8132559"
      ]
     },
     "execution_count": 18,
     "metadata": {},
     "output_type": "execute_result"
    }
   ],
   "source": [
    "spender_region"
   ]
  },
  {
   "cell_type": "code",
   "execution_count": 150,
   "id": "0080aeef",
   "metadata": {},
   "outputs": [],
   "source": [
    "# Compare order frequency by region\n",
    "freq_region = pd.crosstab(ords_prods_all['Region'], ords_prods_all['order_frequency_flag'], dropna = False)"
   ]
  },
  {
   "cell_type": "code",
   "execution_count": 151,
   "id": "1efd1761",
   "metadata": {},
   "outputs": [
    {
     "data": {
      "text/html": [
       "<div>\n",
       "<style scoped>\n",
       "    .dataframe tbody tr th:only-of-type {\n",
       "        vertical-align: middle;\n",
       "    }\n",
       "\n",
       "    .dataframe tbody tr th {\n",
       "        vertical-align: top;\n",
       "    }\n",
       "\n",
       "    .dataframe thead th {\n",
       "        text-align: right;\n",
       "    }\n",
       "</style>\n",
       "<table border=\"1\" class=\"dataframe\">\n",
       "  <thead>\n",
       "    <tr style=\"text-align: right;\">\n",
       "      <th>order_frequency_flag</th>\n",
       "      <th>Frequent customer</th>\n",
       "      <th>Non-frequent customer</th>\n",
       "      <th>Regular customer</th>\n",
       "    </tr>\n",
       "    <tr>\n",
       "      <th>Region</th>\n",
       "      <th></th>\n",
       "      <th></th>\n",
       "      <th></th>\n",
       "    </tr>\n",
       "  </thead>\n",
       "  <tbody>\n",
       "    <tr>\n",
       "      <th>Midwest</th>\n",
       "      <td>3802078</td>\n",
       "      <td>806962</td>\n",
       "      <td>2987025</td>\n",
       "    </tr>\n",
       "    <tr>\n",
       "      <th>Northeast</th>\n",
       "      <td>2940813</td>\n",
       "      <td>601393</td>\n",
       "      <td>2179686</td>\n",
       "    </tr>\n",
       "    <tr>\n",
       "      <th>South</th>\n",
       "      <td>5463792</td>\n",
       "      <td>1141611</td>\n",
       "      <td>4184688</td>\n",
       "    </tr>\n",
       "    <tr>\n",
       "      <th>West</th>\n",
       "      <td>4259503</td>\n",
       "      <td>864541</td>\n",
       "      <td>3167635</td>\n",
       "    </tr>\n",
       "  </tbody>\n",
       "</table>\n",
       "</div>"
      ],
      "text/plain": [
       "order_frequency_flag  Frequent customer  Non-frequent customer  \\\n",
       "Region                                                           \n",
       "Midwest                         3802078                 806962   \n",
       "Northeast                       2940813                 601393   \n",
       "South                           5463792                1141611   \n",
       "West                            4259503                 864541   \n",
       "\n",
       "order_frequency_flag  Regular customer  \n",
       "Region                                  \n",
       "Midwest                        2987025  \n",
       "Northeast                      2179686  \n",
       "South                          4184688  \n",
       "West                           3167635  "
      ]
     },
     "execution_count": 151,
     "metadata": {},
     "output_type": "execute_result"
    }
   ],
   "source": [
    "freq_region"
   ]
  },
  {
   "cell_type": "code",
   "execution_count": 19,
   "id": "e0102a3b",
   "metadata": {},
   "outputs": [],
   "source": [
    "# Compare customer marital status w/departments\n",
    "marital_department_crosstab = pd.crosstab(ords_prods_all['marital_status'], ords_prods_all['department'], dropna = False)"
   ]
  },
  {
   "cell_type": "code",
   "execution_count": 20,
   "id": "17349539",
   "metadata": {},
   "outputs": [
    {
     "data": {
      "text/html": [
       "<div>\n",
       "<style scoped>\n",
       "    .dataframe tbody tr th:only-of-type {\n",
       "        vertical-align: middle;\n",
       "    }\n",
       "\n",
       "    .dataframe tbody tr th {\n",
       "        vertical-align: top;\n",
       "    }\n",
       "\n",
       "    .dataframe thead th {\n",
       "        text-align: right;\n",
       "    }\n",
       "</style>\n",
       "<table border=\"1\" class=\"dataframe\">\n",
       "  <thead>\n",
       "    <tr style=\"text-align: right;\">\n",
       "      <th>department</th>\n",
       "      <th>alcohol</th>\n",
       "      <th>babies</th>\n",
       "      <th>bakery</th>\n",
       "      <th>beverages</th>\n",
       "      <th>breakfast</th>\n",
       "      <th>bulk</th>\n",
       "      <th>canned goods</th>\n",
       "      <th>dairy eggs</th>\n",
       "      <th>deli</th>\n",
       "      <th>dry goods pasta</th>\n",
       "      <th>frozen</th>\n",
       "      <th>household</th>\n",
       "      <th>international</th>\n",
       "      <th>meat seafood</th>\n",
       "      <th>missing</th>\n",
       "      <th>other</th>\n",
       "      <th>pantry</th>\n",
       "      <th>personal care</th>\n",
       "      <th>pets</th>\n",
       "      <th>produce</th>\n",
       "      <th>snacks</th>\n",
       "    </tr>\n",
       "    <tr>\n",
       "      <th>marital_status</th>\n",
       "      <th></th>\n",
       "      <th></th>\n",
       "      <th></th>\n",
       "      <th></th>\n",
       "      <th></th>\n",
       "      <th></th>\n",
       "      <th></th>\n",
       "      <th></th>\n",
       "      <th></th>\n",
       "      <th></th>\n",
       "      <th></th>\n",
       "      <th></th>\n",
       "      <th></th>\n",
       "      <th></th>\n",
       "      <th></th>\n",
       "      <th></th>\n",
       "      <th></th>\n",
       "      <th></th>\n",
       "      <th></th>\n",
       "      <th></th>\n",
       "      <th></th>\n",
       "    </tr>\n",
       "  </thead>\n",
       "  <tbody>\n",
       "    <tr>\n",
       "      <th>divorced/widowed</th>\n",
       "      <td>12615</td>\n",
       "      <td>35326</td>\n",
       "      <td>100401</td>\n",
       "      <td>231025</td>\n",
       "      <td>59498</td>\n",
       "      <td>2765</td>\n",
       "      <td>89259</td>\n",
       "      <td>461454</td>\n",
       "      <td>90818</td>\n",
       "      <td>74220</td>\n",
       "      <td>193575</td>\n",
       "      <td>61805</td>\n",
       "      <td>23060</td>\n",
       "      <td>60477</td>\n",
       "      <td>5493</td>\n",
       "      <td>3002</td>\n",
       "      <td>159981</td>\n",
       "      <td>38542</td>\n",
       "      <td>8409</td>\n",
       "      <td>812834</td>\n",
       "      <td>246796</td>\n",
       "    </tr>\n",
       "    <tr>\n",
       "      <th>living with parents and siblings</th>\n",
       "      <td>8896</td>\n",
       "      <td>20146</td>\n",
       "      <td>56142</td>\n",
       "      <td>124629</td>\n",
       "      <td>34731</td>\n",
       "      <td>1674</td>\n",
       "      <td>51190</td>\n",
       "      <td>260586</td>\n",
       "      <td>50415</td>\n",
       "      <td>41702</td>\n",
       "      <td>108533</td>\n",
       "      <td>35226</td>\n",
       "      <td>13074</td>\n",
       "      <td>33981</td>\n",
       "      <td>3571</td>\n",
       "      <td>1911</td>\n",
       "      <td>90272</td>\n",
       "      <td>21312</td>\n",
       "      <td>5620</td>\n",
       "      <td>449628</td>\n",
       "      <td>137163</td>\n",
       "    </tr>\n",
       "    <tr>\n",
       "      <th>married</th>\n",
       "      <td>105682</td>\n",
       "      <td>297162</td>\n",
       "      <td>821881</td>\n",
       "      <td>1889052</td>\n",
       "      <td>493725</td>\n",
       "      <td>24621</td>\n",
       "      <td>752030</td>\n",
       "      <td>3784900</td>\n",
       "      <td>735689</td>\n",
       "      <td>609663</td>\n",
       "      <td>1569050</td>\n",
       "      <td>522667</td>\n",
       "      <td>188466</td>\n",
       "      <td>500862</td>\n",
       "      <td>48486</td>\n",
       "      <td>25205</td>\n",
       "      <td>1318340</td>\n",
       "      <td>314254</td>\n",
       "      <td>67513</td>\n",
       "      <td>6654218</td>\n",
       "      <td>2029589</td>\n",
       "    </tr>\n",
       "    <tr>\n",
       "      <th>single</th>\n",
       "      <td>26503</td>\n",
       "      <td>71168</td>\n",
       "      <td>194004</td>\n",
       "      <td>443417</td>\n",
       "      <td>115079</td>\n",
       "      <td>5513</td>\n",
       "      <td>175579</td>\n",
       "      <td>886680</td>\n",
       "      <td>174327</td>\n",
       "      <td>141042</td>\n",
       "      <td>363585</td>\n",
       "      <td>118968</td>\n",
       "      <td>44653</td>\n",
       "      <td>113607</td>\n",
       "      <td>11595</td>\n",
       "      <td>6173</td>\n",
       "      <td>306776</td>\n",
       "      <td>73464</td>\n",
       "      <td>16174</td>\n",
       "      <td>1562611</td>\n",
       "      <td>474002</td>\n",
       "    </tr>\n",
       "  </tbody>\n",
       "</table>\n",
       "</div>"
      ],
      "text/plain": [
       "department                        alcohol  babies  bakery  beverages  \\\n",
       "marital_status                                                         \n",
       "divorced/widowed                    12615   35326  100401     231025   \n",
       "living with parents and siblings     8896   20146   56142     124629   \n",
       "married                            105682  297162  821881    1889052   \n",
       "single                              26503   71168  194004     443417   \n",
       "\n",
       "department                        breakfast   bulk  canned goods  dairy eggs  \\\n",
       "marital_status                                                                 \n",
       "divorced/widowed                      59498   2765         89259      461454   \n",
       "living with parents and siblings      34731   1674         51190      260586   \n",
       "married                              493725  24621        752030     3784900   \n",
       "single                               115079   5513        175579      886680   \n",
       "\n",
       "department                          deli  dry goods pasta   frozen  household  \\\n",
       "marital_status                                                                  \n",
       "divorced/widowed                   90818            74220   193575      61805   \n",
       "living with parents and siblings   50415            41702   108533      35226   \n",
       "married                           735689           609663  1569050     522667   \n",
       "single                            174327           141042   363585     118968   \n",
       "\n",
       "department                        international  meat seafood  missing  other  \\\n",
       "marital_status                                                                  \n",
       "divorced/widowed                          23060         60477     5493   3002   \n",
       "living with parents and siblings          13074         33981     3571   1911   \n",
       "married                                  188466        500862    48486  25205   \n",
       "single                                    44653        113607    11595   6173   \n",
       "\n",
       "department                         pantry  personal care   pets  produce  \\\n",
       "marital_status                                                             \n",
       "divorced/widowed                   159981          38542   8409   812834   \n",
       "living with parents and siblings    90272          21312   5620   449628   \n",
       "married                           1318340         314254  67513  6654218   \n",
       "single                             306776          73464  16174  1562611   \n",
       "\n",
       "department                         snacks  \n",
       "marital_status                             \n",
       "divorced/widowed                   246796  \n",
       "living with parents and siblings   137163  \n",
       "married                           2029589  \n",
       "single                             474002  "
      ]
     },
     "execution_count": 20,
     "metadata": {},
     "output_type": "execute_result"
    }
   ],
   "source": [
    "marital_department_crosstab"
   ]
  },
  {
   "cell_type": "code",
   "execution_count": 21,
   "id": "96df068b",
   "metadata": {},
   "outputs": [],
   "source": [
    "# Compare family status w/region\n",
    "family_region_crosstab = pd.crosstab(ords_prods_all['family_status_loc'], ords_prods_all['Region'], dropna = False)"
   ]
  },
  {
   "cell_type": "code",
   "execution_count": 22,
   "id": "8a690bda",
   "metadata": {},
   "outputs": [
    {
     "data": {
      "text/html": [
       "<div>\n",
       "<style scoped>\n",
       "    .dataframe tbody tr th:only-of-type {\n",
       "        vertical-align: middle;\n",
       "    }\n",
       "\n",
       "    .dataframe tbody tr th {\n",
       "        vertical-align: top;\n",
       "    }\n",
       "\n",
       "    .dataframe thead th {\n",
       "        text-align: right;\n",
       "    }\n",
       "</style>\n",
       "<table border=\"1\" class=\"dataframe\">\n",
       "  <thead>\n",
       "    <tr style=\"text-align: right;\">\n",
       "      <th>Region</th>\n",
       "      <th>Midwest</th>\n",
       "      <th>Northeast</th>\n",
       "      <th>South</th>\n",
       "      <th>West</th>\n",
       "    </tr>\n",
       "    <tr>\n",
       "      <th>family_status_loc</th>\n",
       "      <th></th>\n",
       "      <th></th>\n",
       "      <th></th>\n",
       "      <th></th>\n",
       "    </tr>\n",
       "  </thead>\n",
       "  <tbody>\n",
       "    <tr>\n",
       "      <th>not a parent</th>\n",
       "      <td>1904908</td>\n",
       "      <td>1418086</td>\n",
       "      <td>2701219</td>\n",
       "      <td>2072062</td>\n",
       "    </tr>\n",
       "    <tr>\n",
       "      <th>parent</th>\n",
       "      <td>5691157</td>\n",
       "      <td>4303806</td>\n",
       "      <td>8088877</td>\n",
       "      <td>6219617</td>\n",
       "    </tr>\n",
       "  </tbody>\n",
       "</table>\n",
       "</div>"
      ],
      "text/plain": [
       "Region             Midwest  Northeast    South     West\n",
       "family_status_loc                                      \n",
       "not a parent       1904908    1418086  2701219  2072062\n",
       "parent             5691157    4303806  8088877  6219617"
      ]
     },
     "execution_count": 22,
     "metadata": {},
     "output_type": "execute_result"
    }
   ],
   "source": [
    "family_region_crosstab"
   ]
  },
  {
   "cell_type": "code",
   "execution_count": 23,
   "id": "50cf6496",
   "metadata": {},
   "outputs": [],
   "source": [
    "# Compare family status w/departments\n",
    "family_department_crosstab = pd.crosstab(ords_prods_all['family_status_loc'], ords_prods_all['department'], dropna = False)"
   ]
  },
  {
   "cell_type": "code",
   "execution_count": 24,
   "id": "de9ad2de",
   "metadata": {},
   "outputs": [],
   "source": [
    "# Compare loyalty status with spender flag\n",
    "loyalty_spend = pd.crosstab(ords_prods_all['loyalty_flag'], ords_prods_all['spender_flag'], dropna = False)"
   ]
  },
  {
   "cell_type": "code",
   "execution_count": 25,
   "id": "5c2cc128",
   "metadata": {},
   "outputs": [
    {
     "data": {
      "text/html": [
       "<div>\n",
       "<style scoped>\n",
       "    .dataframe tbody tr th:only-of-type {\n",
       "        vertical-align: middle;\n",
       "    }\n",
       "\n",
       "    .dataframe tbody tr th {\n",
       "        vertical-align: top;\n",
       "    }\n",
       "\n",
       "    .dataframe thead th {\n",
       "        text-align: right;\n",
       "    }\n",
       "</style>\n",
       "<table border=\"1\" class=\"dataframe\">\n",
       "  <thead>\n",
       "    <tr style=\"text-align: right;\">\n",
       "      <th>spender_flag</th>\n",
       "      <th>High Spender</th>\n",
       "      <th>Low Spender</th>\n",
       "    </tr>\n",
       "    <tr>\n",
       "      <th>loyalty_flag</th>\n",
       "      <th></th>\n",
       "      <th></th>\n",
       "    </tr>\n",
       "  </thead>\n",
       "  <tbody>\n",
       "    <tr>\n",
       "      <th>loyal customer</th>\n",
       "      <td>215270</td>\n",
       "      <td>10067493</td>\n",
       "    </tr>\n",
       "    <tr>\n",
       "      <th>new customer</th>\n",
       "      <td>113682</td>\n",
       "      <td>6129159</td>\n",
       "    </tr>\n",
       "    <tr>\n",
       "      <th>regular customer</th>\n",
       "      <td>300166</td>\n",
       "      <td>15573962</td>\n",
       "    </tr>\n",
       "  </tbody>\n",
       "</table>\n",
       "</div>"
      ],
      "text/plain": [
       "spender_flag      High Spender  Low Spender\n",
       "loyalty_flag                               \n",
       "loyal customer          215270     10067493\n",
       "new customer            113682      6129159\n",
       "regular customer        300166     15573962"
      ]
     },
     "execution_count": 25,
     "metadata": {},
     "output_type": "execute_result"
    }
   ],
   "source": [
    "loyalty_spend"
   ]
  },
  {
   "cell_type": "code",
   "execution_count": 26,
   "id": "c3615aa0",
   "metadata": {},
   "outputs": [],
   "source": [
    "# Compare loyalty status with order frequency\n",
    "loyalty_order = pd.crosstab(ords_prods_all['loyalty_flag'], ords_prods_all['order_frequency_flag'], dropna = False)"
   ]
  },
  {
   "cell_type": "code",
   "execution_count": 27,
   "id": "9f0089a5",
   "metadata": {},
   "outputs": [
    {
     "data": {
      "text/html": [
       "<div>\n",
       "<style scoped>\n",
       "    .dataframe tbody tr th:only-of-type {\n",
       "        vertical-align: middle;\n",
       "    }\n",
       "\n",
       "    .dataframe tbody tr th {\n",
       "        vertical-align: top;\n",
       "    }\n",
       "\n",
       "    .dataframe thead th {\n",
       "        text-align: right;\n",
       "    }\n",
       "</style>\n",
       "<table border=\"1\" class=\"dataframe\">\n",
       "  <thead>\n",
       "    <tr style=\"text-align: right;\">\n",
       "      <th>order_frequency_flag</th>\n",
       "      <th>Frequent customer</th>\n",
       "      <th>Non-frequent customer</th>\n",
       "      <th>Regular customer</th>\n",
       "    </tr>\n",
       "    <tr>\n",
       "      <th>loyalty_flag</th>\n",
       "      <th></th>\n",
       "      <th></th>\n",
       "      <th></th>\n",
       "    </tr>\n",
       "  </thead>\n",
       "  <tbody>\n",
       "    <tr>\n",
       "      <th>loyal customer</th>\n",
       "      <td>10251745</td>\n",
       "      <td>0</td>\n",
       "      <td>31018</td>\n",
       "    </tr>\n",
       "    <tr>\n",
       "      <th>new customer</th>\n",
       "      <td>965714</td>\n",
       "      <td>2633365</td>\n",
       "      <td>2643757</td>\n",
       "    </tr>\n",
       "    <tr>\n",
       "      <th>regular customer</th>\n",
       "      <td>5248727</td>\n",
       "      <td>781142</td>\n",
       "      <td>9844259</td>\n",
       "    </tr>\n",
       "  </tbody>\n",
       "</table>\n",
       "</div>"
      ],
      "text/plain": [
       "order_frequency_flag  Frequent customer  Non-frequent customer  \\\n",
       "loyalty_flag                                                     \n",
       "loyal customer                 10251745                      0   \n",
       "new customer                     965714                2633365   \n",
       "regular customer                5248727                 781142   \n",
       "\n",
       "order_frequency_flag  Regular customer  \n",
       "loyalty_flag                            \n",
       "loyal customer                   31018  \n",
       "new customer                   2643757  \n",
       "regular customer               9844259  "
      ]
     },
     "execution_count": 27,
     "metadata": {},
     "output_type": "execute_result"
    }
   ],
   "source": [
    "loyalty_order"
   ]
  },
  {
   "cell_type": "code",
   "execution_count": 28,
   "id": "cfd66b66",
   "metadata": {},
   "outputs": [],
   "source": [
    "# Compare loyalty status with price label\n",
    "loyalty_price = pd.crosstab(ords_prods_all['loyalty_flag'], ords_prods_all['price_label'], dropna = False)"
   ]
  },
  {
   "cell_type": "code",
   "execution_count": 29,
   "id": "f36c8b26",
   "metadata": {},
   "outputs": [],
   "source": [
    "# Compare age with spender flag\n",
    "age_spend = pd.crosstab(ords_prods_all['age_group'], ords_prods_all['spender_flag'], dropna = False)"
   ]
  },
  {
   "cell_type": "code",
   "execution_count": 30,
   "id": "66b43901",
   "metadata": {},
   "outputs": [
    {
     "data": {
      "text/html": [
       "<div>\n",
       "<style scoped>\n",
       "    .dataframe tbody tr th:only-of-type {\n",
       "        vertical-align: middle;\n",
       "    }\n",
       "\n",
       "    .dataframe tbody tr th {\n",
       "        vertical-align: top;\n",
       "    }\n",
       "\n",
       "    .dataframe thead th {\n",
       "        text-align: right;\n",
       "    }\n",
       "</style>\n",
       "<table border=\"1\" class=\"dataframe\">\n",
       "  <thead>\n",
       "    <tr style=\"text-align: right;\">\n",
       "      <th>spender_flag</th>\n",
       "      <th>High Spender</th>\n",
       "      <th>Low Spender</th>\n",
       "    </tr>\n",
       "    <tr>\n",
       "      <th>age_group</th>\n",
       "      <th></th>\n",
       "      <th></th>\n",
       "    </tr>\n",
       "  </thead>\n",
       "  <tbody>\n",
       "    <tr>\n",
       "      <th>middle age</th>\n",
       "      <td>256977</td>\n",
       "      <td>12406556</td>\n",
       "    </tr>\n",
       "    <tr>\n",
       "      <th>senior</th>\n",
       "      <td>162661</td>\n",
       "      <td>8411090</td>\n",
       "    </tr>\n",
       "    <tr>\n",
       "      <th>young adult</th>\n",
       "      <td>209480</td>\n",
       "      <td>10952968</td>\n",
       "    </tr>\n",
       "  </tbody>\n",
       "</table>\n",
       "</div>"
      ],
      "text/plain": [
       "spender_flag  High Spender  Low Spender\n",
       "age_group                              \n",
       "middle age          256977     12406556\n",
       "senior              162661      8411090\n",
       "young adult         209480     10952968"
      ]
     },
     "execution_count": 30,
     "metadata": {},
     "output_type": "execute_result"
    }
   ],
   "source": [
    "age_spend"
   ]
  },
  {
   "cell_type": "code",
   "execution_count": 31,
   "id": "e28c382b",
   "metadata": {},
   "outputs": [],
   "source": [
    "# Compare age with order frequency\n",
    "age_frequency = pd.crosstab(ords_prods_all['age_group'], ords_prods_all['order_frequency_flag'], dropna = False)"
   ]
  },
  {
   "cell_type": "code",
   "execution_count": 32,
   "id": "7d1370e3",
   "metadata": {},
   "outputs": [
    {
     "data": {
      "text/html": [
       "<div>\n",
       "<style scoped>\n",
       "    .dataframe tbody tr th:only-of-type {\n",
       "        vertical-align: middle;\n",
       "    }\n",
       "\n",
       "    .dataframe tbody tr th {\n",
       "        vertical-align: top;\n",
       "    }\n",
       "\n",
       "    .dataframe thead th {\n",
       "        text-align: right;\n",
       "    }\n",
       "</style>\n",
       "<table border=\"1\" class=\"dataframe\">\n",
       "  <thead>\n",
       "    <tr style=\"text-align: right;\">\n",
       "      <th>order_frequency_flag</th>\n",
       "      <th>Frequent customer</th>\n",
       "      <th>Non-frequent customer</th>\n",
       "      <th>Regular customer</th>\n",
       "    </tr>\n",
       "    <tr>\n",
       "      <th>age_group</th>\n",
       "      <th></th>\n",
       "      <th></th>\n",
       "      <th></th>\n",
       "    </tr>\n",
       "  </thead>\n",
       "  <tbody>\n",
       "    <tr>\n",
       "      <th>middle age</th>\n",
       "      <td>6435032</td>\n",
       "      <td>1353295</td>\n",
       "      <td>4875201</td>\n",
       "    </tr>\n",
       "    <tr>\n",
       "      <th>senior</th>\n",
       "      <td>4382844</td>\n",
       "      <td>891778</td>\n",
       "      <td>3299129</td>\n",
       "    </tr>\n",
       "    <tr>\n",
       "      <th>young adult</th>\n",
       "      <td>5648310</td>\n",
       "      <td>1169434</td>\n",
       "      <td>4344704</td>\n",
       "    </tr>\n",
       "  </tbody>\n",
       "</table>\n",
       "</div>"
      ],
      "text/plain": [
       "order_frequency_flag  Frequent customer  Non-frequent customer  \\\n",
       "age_group                                                        \n",
       "middle age                      6435032                1353295   \n",
       "senior                          4382844                 891778   \n",
       "young adult                     5648310                1169434   \n",
       "\n",
       "order_frequency_flag  Regular customer  \n",
       "age_group                               \n",
       "middle age                     4875201  \n",
       "senior                         3299129  \n",
       "young adult                    4344704  "
      ]
     },
     "execution_count": 32,
     "metadata": {},
     "output_type": "execute_result"
    }
   ],
   "source": [
    "age_frequency"
   ]
  },
  {
   "cell_type": "code",
   "execution_count": 47,
   "id": "36230354",
   "metadata": {},
   "outputs": [],
   "source": [
    "# Compare time of day with product label \n",
    "time_price_label = pd.crosstab(ords_prods_all['order_hour_of_day'], ords_prods_all['price_label'], dropna = False)"
   ]
  },
  {
   "cell_type": "code",
   "execution_count": 48,
   "id": "461b4ca2",
   "metadata": {
    "scrolled": false
   },
   "outputs": [
    {
     "data": {
      "text/html": [
       "<div>\n",
       "<style scoped>\n",
       "    .dataframe tbody tr th:only-of-type {\n",
       "        vertical-align: middle;\n",
       "    }\n",
       "\n",
       "    .dataframe tbody tr th {\n",
       "        vertical-align: top;\n",
       "    }\n",
       "\n",
       "    .dataframe thead th {\n",
       "        text-align: right;\n",
       "    }\n",
       "</style>\n",
       "<table border=\"1\" class=\"dataframe\">\n",
       "  <thead>\n",
       "    <tr style=\"text-align: right;\">\n",
       "      <th>price_label</th>\n",
       "      <th>High-range product</th>\n",
       "      <th>Low-range product</th>\n",
       "      <th>Mid-range product</th>\n",
       "    </tr>\n",
       "    <tr>\n",
       "      <th>order_hour_of_day</th>\n",
       "      <th></th>\n",
       "      <th></th>\n",
       "      <th></th>\n",
       "    </tr>\n",
       "  </thead>\n",
       "  <tbody>\n",
       "    <tr>\n",
       "      <th>0.0</th>\n",
       "      <td>2752</td>\n",
       "      <td>68160</td>\n",
       "      <td>147830</td>\n",
       "    </tr>\n",
       "    <tr>\n",
       "      <th>1.0</th>\n",
       "      <td>1399</td>\n",
       "      <td>35953</td>\n",
       "      <td>78331</td>\n",
       "    </tr>\n",
       "    <tr>\n",
       "      <th>2.0</th>\n",
       "      <td>910</td>\n",
       "      <td>21785</td>\n",
       "      <td>46665</td>\n",
       "    </tr>\n",
       "    <tr>\n",
       "      <th>3.0</th>\n",
       "      <td>634</td>\n",
       "      <td>15795</td>\n",
       "      <td>34839</td>\n",
       "    </tr>\n",
       "    <tr>\n",
       "      <th>4.0</th>\n",
       "      <td>686</td>\n",
       "      <td>16507</td>\n",
       "      <td>36039</td>\n",
       "    </tr>\n",
       "    <tr>\n",
       "      <th>5.0</th>\n",
       "      <td>1050</td>\n",
       "      <td>27214</td>\n",
       "      <td>59680</td>\n",
       "    </tr>\n",
       "    <tr>\n",
       "      <th>6.0</th>\n",
       "      <td>3697</td>\n",
       "      <td>89902</td>\n",
       "      <td>196851</td>\n",
       "    </tr>\n",
       "    <tr>\n",
       "      <th>7.0</th>\n",
       "      <td>11464</td>\n",
       "      <td>275920</td>\n",
       "      <td>603539</td>\n",
       "    </tr>\n",
       "    <tr>\n",
       "      <th>8.0</th>\n",
       "      <td>21692</td>\n",
       "      <td>536748</td>\n",
       "      <td>1159423</td>\n",
       "    </tr>\n",
       "    <tr>\n",
       "      <th>9.0</th>\n",
       "      <td>29335</td>\n",
       "      <td>775279</td>\n",
       "      <td>1649228</td>\n",
       "    </tr>\n",
       "    <tr>\n",
       "      <th>10.0</th>\n",
       "      <td>33374</td>\n",
       "      <td>873664</td>\n",
       "      <td>1854295</td>\n",
       "    </tr>\n",
       "    <tr>\n",
       "      <th>11.0</th>\n",
       "      <td>34993</td>\n",
       "      <td>860467</td>\n",
       "      <td>1840234</td>\n",
       "    </tr>\n",
       "    <tr>\n",
       "      <th>12.0</th>\n",
       "      <td>34145</td>\n",
       "      <td>819742</td>\n",
       "      <td>1764217</td>\n",
       "    </tr>\n",
       "    <tr>\n",
       "      <th>13.0</th>\n",
       "      <td>34665</td>\n",
       "      <td>830490</td>\n",
       "      <td>1795415</td>\n",
       "    </tr>\n",
       "    <tr>\n",
       "      <th>14.0</th>\n",
       "      <td>35028</td>\n",
       "      <td>837566</td>\n",
       "      <td>1816134</td>\n",
       "    </tr>\n",
       "    <tr>\n",
       "      <th>15.0</th>\n",
       "      <td>35048</td>\n",
       "      <td>828700</td>\n",
       "      <td>1797970</td>\n",
       "    </tr>\n",
       "    <tr>\n",
       "      <th>16.0</th>\n",
       "      <td>33108</td>\n",
       "      <td>789191</td>\n",
       "      <td>1712445</td>\n",
       "    </tr>\n",
       "    <tr>\n",
       "      <th>17.0</th>\n",
       "      <td>26635</td>\n",
       "      <td>650258</td>\n",
       "      <td>1410380</td>\n",
       "    </tr>\n",
       "    <tr>\n",
       "      <th>18.0</th>\n",
       "      <td>20990</td>\n",
       "      <td>509103</td>\n",
       "      <td>1106133</td>\n",
       "    </tr>\n",
       "    <tr>\n",
       "      <th>19.0</th>\n",
       "      <td>15474</td>\n",
       "      <td>392448</td>\n",
       "      <td>850154</td>\n",
       "    </tr>\n",
       "    <tr>\n",
       "      <th>20.0</th>\n",
       "      <td>12245</td>\n",
       "      <td>303498</td>\n",
       "      <td>660257</td>\n",
       "    </tr>\n",
       "    <tr>\n",
       "      <th>21.0</th>\n",
       "      <td>10177</td>\n",
       "      <td>246963</td>\n",
       "      <td>538388</td>\n",
       "    </tr>\n",
       "    <tr>\n",
       "      <th>22.0</th>\n",
       "      <td>7971</td>\n",
       "      <td>196106</td>\n",
       "      <td>430082</td>\n",
       "    </tr>\n",
       "    <tr>\n",
       "      <th>23.0</th>\n",
       "      <td>5079</td>\n",
       "      <td>124862</td>\n",
       "      <td>272331</td>\n",
       "    </tr>\n",
       "  </tbody>\n",
       "</table>\n",
       "</div>"
      ],
      "text/plain": [
       "price_label        High-range product  Low-range product  Mid-range product\n",
       "order_hour_of_day                                                          \n",
       "0.0                              2752              68160             147830\n",
       "1.0                              1399              35953              78331\n",
       "2.0                               910              21785              46665\n",
       "3.0                               634              15795              34839\n",
       "4.0                               686              16507              36039\n",
       "5.0                              1050              27214              59680\n",
       "6.0                              3697              89902             196851\n",
       "7.0                             11464             275920             603539\n",
       "8.0                             21692             536748            1159423\n",
       "9.0                             29335             775279            1649228\n",
       "10.0                            33374             873664            1854295\n",
       "11.0                            34993             860467            1840234\n",
       "12.0                            34145             819742            1764217\n",
       "13.0                            34665             830490            1795415\n",
       "14.0                            35028             837566            1816134\n",
       "15.0                            35048             828700            1797970\n",
       "16.0                            33108             789191            1712445\n",
       "17.0                            26635             650258            1410380\n",
       "18.0                            20990             509103            1106133\n",
       "19.0                            15474             392448             850154\n",
       "20.0                            12245             303498             660257\n",
       "21.0                            10177             246963             538388\n",
       "22.0                             7971             196106             430082\n",
       "23.0                             5079             124862             272331"
      ]
     },
     "execution_count": 48,
     "metadata": {},
     "output_type": "execute_result"
    }
   ],
   "source": [
    "time_price_label"
   ]
  },
  {
   "cell_type": "code",
   "execution_count": 79,
   "id": "65b6d965",
   "metadata": {},
   "outputs": [],
   "source": [
    "dep_age = pd.crosstab(ords_prods_all['department'], ords_prods_all['age_group'], dropna = False)"
   ]
  },
  {
   "cell_type": "code",
   "execution_count": 80,
   "id": "38e89d5a",
   "metadata": {
    "scrolled": true
   },
   "outputs": [
    {
     "data": {
      "text/html": [
       "<div>\n",
       "<style scoped>\n",
       "    .dataframe tbody tr th:only-of-type {\n",
       "        vertical-align: middle;\n",
       "    }\n",
       "\n",
       "    .dataframe tbody tr th {\n",
       "        vertical-align: top;\n",
       "    }\n",
       "\n",
       "    .dataframe thead th {\n",
       "        text-align: right;\n",
       "    }\n",
       "</style>\n",
       "<table border=\"1\" class=\"dataframe\">\n",
       "  <thead>\n",
       "    <tr style=\"text-align: right;\">\n",
       "      <th>age_group</th>\n",
       "      <th>middle age</th>\n",
       "      <th>senior</th>\n",
       "      <th>young adult</th>\n",
       "    </tr>\n",
       "    <tr>\n",
       "      <th>department</th>\n",
       "      <th></th>\n",
       "      <th></th>\n",
       "      <th></th>\n",
       "    </tr>\n",
       "  </thead>\n",
       "  <tbody>\n",
       "    <tr>\n",
       "      <th>alcohol</th>\n",
       "      <td>59771</td>\n",
       "      <td>39036</td>\n",
       "      <td>54889</td>\n",
       "    </tr>\n",
       "    <tr>\n",
       "      <th>babies</th>\n",
       "      <td>167984</td>\n",
       "      <td>109445</td>\n",
       "      <td>146373</td>\n",
       "    </tr>\n",
       "    <tr>\n",
       "      <th>bakery</th>\n",
       "      <td>458686</td>\n",
       "      <td>309522</td>\n",
       "      <td>404220</td>\n",
       "    </tr>\n",
       "    <tr>\n",
       "      <th>beverages</th>\n",
       "      <td>1059131</td>\n",
       "      <td>714832</td>\n",
       "      <td>914160</td>\n",
       "    </tr>\n",
       "    <tr>\n",
       "      <th>breakfast</th>\n",
       "      <td>275947</td>\n",
       "      <td>183844</td>\n",
       "      <td>243242</td>\n",
       "    </tr>\n",
       "    <tr>\n",
       "      <th>bulk</th>\n",
       "      <td>13329</td>\n",
       "      <td>9242</td>\n",
       "      <td>12002</td>\n",
       "    </tr>\n",
       "    <tr>\n",
       "      <th>canned goods</th>\n",
       "      <td>416382</td>\n",
       "      <td>282438</td>\n",
       "      <td>369238</td>\n",
       "    </tr>\n",
       "    <tr>\n",
       "      <th>dairy eggs</th>\n",
       "      <td>2100406</td>\n",
       "      <td>1424880</td>\n",
       "      <td>1868334</td>\n",
       "    </tr>\n",
       "    <tr>\n",
       "      <th>deli</th>\n",
       "      <td>411631</td>\n",
       "      <td>277618</td>\n",
       "      <td>362000</td>\n",
       "    </tr>\n",
       "    <tr>\n",
       "      <th>dry goods pasta</th>\n",
       "      <td>338614</td>\n",
       "      <td>228935</td>\n",
       "      <td>299078</td>\n",
       "    </tr>\n",
       "    <tr>\n",
       "      <th>frozen</th>\n",
       "      <td>875349</td>\n",
       "      <td>593669</td>\n",
       "      <td>765725</td>\n",
       "    </tr>\n",
       "    <tr>\n",
       "      <th>household</th>\n",
       "      <td>289164</td>\n",
       "      <td>196935</td>\n",
       "      <td>252567</td>\n",
       "    </tr>\n",
       "    <tr>\n",
       "      <th>international</th>\n",
       "      <td>105038</td>\n",
       "      <td>70774</td>\n",
       "      <td>93441</td>\n",
       "    </tr>\n",
       "    <tr>\n",
       "      <th>meat seafood</th>\n",
       "      <td>276311</td>\n",
       "      <td>190114</td>\n",
       "      <td>242502</td>\n",
       "    </tr>\n",
       "    <tr>\n",
       "      <th>missing</th>\n",
       "      <td>26987</td>\n",
       "      <td>18094</td>\n",
       "      <td>24064</td>\n",
       "    </tr>\n",
       "    <tr>\n",
       "      <th>other</th>\n",
       "      <td>14156</td>\n",
       "      <td>9425</td>\n",
       "      <td>12710</td>\n",
       "    </tr>\n",
       "    <tr>\n",
       "      <th>pantry</th>\n",
       "      <td>734150</td>\n",
       "      <td>496979</td>\n",
       "      <td>644240</td>\n",
       "    </tr>\n",
       "    <tr>\n",
       "      <th>personal care</th>\n",
       "      <td>177482</td>\n",
       "      <td>117405</td>\n",
       "      <td>152685</td>\n",
       "    </tr>\n",
       "    <tr>\n",
       "      <th>pets</th>\n",
       "      <td>37938</td>\n",
       "      <td>26286</td>\n",
       "      <td>33492</td>\n",
       "    </tr>\n",
       "    <tr>\n",
       "      <th>produce</th>\n",
       "      <td>3698098</td>\n",
       "      <td>2513763</td>\n",
       "      <td>3267430</td>\n",
       "    </tr>\n",
       "    <tr>\n",
       "      <th>snacks</th>\n",
       "      <td>1126979</td>\n",
       "      <td>760515</td>\n",
       "      <td>1000056</td>\n",
       "    </tr>\n",
       "  </tbody>\n",
       "</table>\n",
       "</div>"
      ],
      "text/plain": [
       "age_group        middle age   senior  young adult\n",
       "department                                       \n",
       "alcohol               59771    39036        54889\n",
       "babies               167984   109445       146373\n",
       "bakery               458686   309522       404220\n",
       "beverages           1059131   714832       914160\n",
       "breakfast            275947   183844       243242\n",
       "bulk                  13329     9242        12002\n",
       "canned goods         416382   282438       369238\n",
       "dairy eggs          2100406  1424880      1868334\n",
       "deli                 411631   277618       362000\n",
       "dry goods pasta      338614   228935       299078\n",
       "frozen               875349   593669       765725\n",
       "household            289164   196935       252567\n",
       "international        105038    70774        93441\n",
       "meat seafood         276311   190114       242502\n",
       "missing               26987    18094        24064\n",
       "other                 14156     9425        12710\n",
       "pantry               734150   496979       644240\n",
       "personal care        177482   117405       152685\n",
       "pets                  37938    26286        33492\n",
       "produce             3698098  2513763      3267430\n",
       "snacks              1126979   760515      1000056"
      ]
     },
     "execution_count": 80,
     "metadata": {},
     "output_type": "execute_result"
    }
   ],
   "source": [
    "dep_age"
   ]
  },
  {
   "cell_type": "code",
   "execution_count": 92,
   "id": "15ff5ba5",
   "metadata": {},
   "outputs": [],
   "source": [
    "# Compare marital status with departments \n",
    "mar_status_dep = pd.crosstab(ords_prods_all['department'], ords_prods_all['marital_status'], dropna = False)"
   ]
  },
  {
   "cell_type": "code",
   "execution_count": 93,
   "id": "704da89e",
   "metadata": {
    "scrolled": true
   },
   "outputs": [
    {
     "data": {
      "text/html": [
       "<div>\n",
       "<style scoped>\n",
       "    .dataframe tbody tr th:only-of-type {\n",
       "        vertical-align: middle;\n",
       "    }\n",
       "\n",
       "    .dataframe tbody tr th {\n",
       "        vertical-align: top;\n",
       "    }\n",
       "\n",
       "    .dataframe thead th {\n",
       "        text-align: right;\n",
       "    }\n",
       "</style>\n",
       "<table border=\"1\" class=\"dataframe\">\n",
       "  <thead>\n",
       "    <tr style=\"text-align: right;\">\n",
       "      <th>marital_status</th>\n",
       "      <th>divorced/widowed</th>\n",
       "      <th>living with parents and siblings</th>\n",
       "      <th>married</th>\n",
       "      <th>single</th>\n",
       "    </tr>\n",
       "    <tr>\n",
       "      <th>department</th>\n",
       "      <th></th>\n",
       "      <th></th>\n",
       "      <th></th>\n",
       "      <th></th>\n",
       "    </tr>\n",
       "  </thead>\n",
       "  <tbody>\n",
       "    <tr>\n",
       "      <th>alcohol</th>\n",
       "      <td>12615</td>\n",
       "      <td>8896</td>\n",
       "      <td>105682</td>\n",
       "      <td>26503</td>\n",
       "    </tr>\n",
       "    <tr>\n",
       "      <th>babies</th>\n",
       "      <td>35326</td>\n",
       "      <td>20146</td>\n",
       "      <td>297162</td>\n",
       "      <td>71168</td>\n",
       "    </tr>\n",
       "    <tr>\n",
       "      <th>bakery</th>\n",
       "      <td>100401</td>\n",
       "      <td>56142</td>\n",
       "      <td>821881</td>\n",
       "      <td>194004</td>\n",
       "    </tr>\n",
       "    <tr>\n",
       "      <th>beverages</th>\n",
       "      <td>231025</td>\n",
       "      <td>124629</td>\n",
       "      <td>1889052</td>\n",
       "      <td>443417</td>\n",
       "    </tr>\n",
       "    <tr>\n",
       "      <th>breakfast</th>\n",
       "      <td>59498</td>\n",
       "      <td>34731</td>\n",
       "      <td>493725</td>\n",
       "      <td>115079</td>\n",
       "    </tr>\n",
       "    <tr>\n",
       "      <th>bulk</th>\n",
       "      <td>2765</td>\n",
       "      <td>1674</td>\n",
       "      <td>24621</td>\n",
       "      <td>5513</td>\n",
       "    </tr>\n",
       "    <tr>\n",
       "      <th>canned goods</th>\n",
       "      <td>89259</td>\n",
       "      <td>51190</td>\n",
       "      <td>752030</td>\n",
       "      <td>175579</td>\n",
       "    </tr>\n",
       "    <tr>\n",
       "      <th>dairy eggs</th>\n",
       "      <td>461454</td>\n",
       "      <td>260586</td>\n",
       "      <td>3784900</td>\n",
       "      <td>886680</td>\n",
       "    </tr>\n",
       "    <tr>\n",
       "      <th>deli</th>\n",
       "      <td>90818</td>\n",
       "      <td>50415</td>\n",
       "      <td>735689</td>\n",
       "      <td>174327</td>\n",
       "    </tr>\n",
       "    <tr>\n",
       "      <th>dry goods pasta</th>\n",
       "      <td>74220</td>\n",
       "      <td>41702</td>\n",
       "      <td>609663</td>\n",
       "      <td>141042</td>\n",
       "    </tr>\n",
       "    <tr>\n",
       "      <th>frozen</th>\n",
       "      <td>193575</td>\n",
       "      <td>108533</td>\n",
       "      <td>1569050</td>\n",
       "      <td>363585</td>\n",
       "    </tr>\n",
       "    <tr>\n",
       "      <th>household</th>\n",
       "      <td>61805</td>\n",
       "      <td>35226</td>\n",
       "      <td>522667</td>\n",
       "      <td>118968</td>\n",
       "    </tr>\n",
       "    <tr>\n",
       "      <th>international</th>\n",
       "      <td>23060</td>\n",
       "      <td>13074</td>\n",
       "      <td>188466</td>\n",
       "      <td>44653</td>\n",
       "    </tr>\n",
       "    <tr>\n",
       "      <th>meat seafood</th>\n",
       "      <td>60477</td>\n",
       "      <td>33981</td>\n",
       "      <td>500862</td>\n",
       "      <td>113607</td>\n",
       "    </tr>\n",
       "    <tr>\n",
       "      <th>missing</th>\n",
       "      <td>5493</td>\n",
       "      <td>3571</td>\n",
       "      <td>48486</td>\n",
       "      <td>11595</td>\n",
       "    </tr>\n",
       "    <tr>\n",
       "      <th>other</th>\n",
       "      <td>3002</td>\n",
       "      <td>1911</td>\n",
       "      <td>25205</td>\n",
       "      <td>6173</td>\n",
       "    </tr>\n",
       "    <tr>\n",
       "      <th>pantry</th>\n",
       "      <td>159981</td>\n",
       "      <td>90272</td>\n",
       "      <td>1318340</td>\n",
       "      <td>306776</td>\n",
       "    </tr>\n",
       "    <tr>\n",
       "      <th>personal care</th>\n",
       "      <td>38542</td>\n",
       "      <td>21312</td>\n",
       "      <td>314254</td>\n",
       "      <td>73464</td>\n",
       "    </tr>\n",
       "    <tr>\n",
       "      <th>pets</th>\n",
       "      <td>8409</td>\n",
       "      <td>5620</td>\n",
       "      <td>67513</td>\n",
       "      <td>16174</td>\n",
       "    </tr>\n",
       "    <tr>\n",
       "      <th>produce</th>\n",
       "      <td>812834</td>\n",
       "      <td>449628</td>\n",
       "      <td>6654218</td>\n",
       "      <td>1562611</td>\n",
       "    </tr>\n",
       "    <tr>\n",
       "      <th>snacks</th>\n",
       "      <td>246796</td>\n",
       "      <td>137163</td>\n",
       "      <td>2029589</td>\n",
       "      <td>474002</td>\n",
       "    </tr>\n",
       "  </tbody>\n",
       "</table>\n",
       "</div>"
      ],
      "text/plain": [
       "marital_status   divorced/widowed  living with parents and siblings  married  \\\n",
       "department                                                                     \n",
       "alcohol                     12615                              8896   105682   \n",
       "babies                      35326                             20146   297162   \n",
       "bakery                     100401                             56142   821881   \n",
       "beverages                  231025                            124629  1889052   \n",
       "breakfast                   59498                             34731   493725   \n",
       "bulk                         2765                              1674    24621   \n",
       "canned goods                89259                             51190   752030   \n",
       "dairy eggs                 461454                            260586  3784900   \n",
       "deli                        90818                             50415   735689   \n",
       "dry goods pasta             74220                             41702   609663   \n",
       "frozen                     193575                            108533  1569050   \n",
       "household                   61805                             35226   522667   \n",
       "international               23060                             13074   188466   \n",
       "meat seafood                60477                             33981   500862   \n",
       "missing                      5493                              3571    48486   \n",
       "other                        3002                              1911    25205   \n",
       "pantry                     159981                             90272  1318340   \n",
       "personal care               38542                             21312   314254   \n",
       "pets                         8409                              5620    67513   \n",
       "produce                    812834                            449628  6654218   \n",
       "snacks                     246796                            137163  2029589   \n",
       "\n",
       "marital_status    single  \n",
       "department                \n",
       "alcohol            26503  \n",
       "babies             71168  \n",
       "bakery            194004  \n",
       "beverages         443417  \n",
       "breakfast         115079  \n",
       "bulk                5513  \n",
       "canned goods      175579  \n",
       "dairy eggs        886680  \n",
       "deli              174327  \n",
       "dry goods pasta   141042  \n",
       "frozen            363585  \n",
       "household         118968  \n",
       "international      44653  \n",
       "meat seafood      113607  \n",
       "missing            11595  \n",
       "other               6173  \n",
       "pantry            306776  \n",
       "personal care      73464  \n",
       "pets               16174  \n",
       "produce          1562611  \n",
       "snacks            474002  "
      ]
     },
     "execution_count": 93,
     "metadata": {},
     "output_type": "execute_result"
    }
   ],
   "source": [
    "mar_status_dep"
   ]
  },
  {
   "cell_type": "code",
   "execution_count": 102,
   "id": "4081fcd7",
   "metadata": {},
   "outputs": [],
   "source": [
    "# Compare marital status with spender flag\n",
    "mar_status_spend = pd.crosstab(ords_prods_all['marital_status'], ords_prods_all['spender_flag'], dropna = False)"
   ]
  },
  {
   "cell_type": "code",
   "execution_count": 104,
   "id": "12de3449",
   "metadata": {
    "scrolled": true
   },
   "outputs": [
    {
     "data": {
      "text/html": [
       "<div>\n",
       "<style scoped>\n",
       "    .dataframe tbody tr th:only-of-type {\n",
       "        vertical-align: middle;\n",
       "    }\n",
       "\n",
       "    .dataframe tbody tr th {\n",
       "        vertical-align: top;\n",
       "    }\n",
       "\n",
       "    .dataframe thead th {\n",
       "        text-align: right;\n",
       "    }\n",
       "</style>\n",
       "<table border=\"1\" class=\"dataframe\">\n",
       "  <thead>\n",
       "    <tr style=\"text-align: right;\">\n",
       "      <th>spender_flag</th>\n",
       "      <th>High Spender</th>\n",
       "      <th>Low Spender</th>\n",
       "    </tr>\n",
       "    <tr>\n",
       "      <th>marital_status</th>\n",
       "      <th></th>\n",
       "      <th></th>\n",
       "    </tr>\n",
       "  </thead>\n",
       "  <tbody>\n",
       "    <tr>\n",
       "      <th>divorced/widowed</th>\n",
       "      <td>52241</td>\n",
       "      <td>2719114</td>\n",
       "    </tr>\n",
       "    <tr>\n",
       "      <th>living with parents and siblings</th>\n",
       "      <td>29188</td>\n",
       "      <td>1521214</td>\n",
       "    </tr>\n",
       "    <tr>\n",
       "      <th>married</th>\n",
       "      <td>447626</td>\n",
       "      <td>22305429</td>\n",
       "    </tr>\n",
       "    <tr>\n",
       "      <th>single</th>\n",
       "      <td>100063</td>\n",
       "      <td>5224857</td>\n",
       "    </tr>\n",
       "  </tbody>\n",
       "</table>\n",
       "</div>"
      ],
      "text/plain": [
       "spender_flag                      High Spender  Low Spender\n",
       "marital_status                                             \n",
       "divorced/widowed                         52241      2719114\n",
       "living with parents and siblings         29188      1521214\n",
       "married                                 447626     22305429\n",
       "single                                  100063      5224857"
      ]
     },
     "execution_count": 104,
     "metadata": {},
     "output_type": "execute_result"
    }
   ],
   "source": [
    "mar_status_spend"
   ]
  },
  {
   "cell_type": "code",
   "execution_count": 109,
   "id": "28140cdb",
   "metadata": {},
   "outputs": [],
   "source": [
    "# Compare marital status with order frequency\n",
    "mar_status_frequency = pd.crosstab(ords_prods_all['marital_status'], ords_prods_all['order_frequency_flag'], dropna = False)"
   ]
  },
  {
   "cell_type": "code",
   "execution_count": 110,
   "id": "14a80e49",
   "metadata": {
    "scrolled": true
   },
   "outputs": [
    {
     "data": {
      "text/html": [
       "<div>\n",
       "<style scoped>\n",
       "    .dataframe tbody tr th:only-of-type {\n",
       "        vertical-align: middle;\n",
       "    }\n",
       "\n",
       "    .dataframe tbody tr th {\n",
       "        vertical-align: top;\n",
       "    }\n",
       "\n",
       "    .dataframe thead th {\n",
       "        text-align: right;\n",
       "    }\n",
       "</style>\n",
       "<table border=\"1\" class=\"dataframe\">\n",
       "  <thead>\n",
       "    <tr style=\"text-align: right;\">\n",
       "      <th>order_frequency_flag</th>\n",
       "      <th>Frequent customer</th>\n",
       "      <th>Non-frequent customer</th>\n",
       "      <th>Regular customer</th>\n",
       "    </tr>\n",
       "    <tr>\n",
       "      <th>marital_status</th>\n",
       "      <th></th>\n",
       "      <th></th>\n",
       "      <th></th>\n",
       "    </tr>\n",
       "  </thead>\n",
       "  <tbody>\n",
       "    <tr>\n",
       "      <th>divorced/widowed</th>\n",
       "      <td>1411182</td>\n",
       "      <td>285827</td>\n",
       "      <td>1074346</td>\n",
       "    </tr>\n",
       "    <tr>\n",
       "      <th>living with parents and siblings</th>\n",
       "      <td>792820</td>\n",
       "      <td>161800</td>\n",
       "      <td>595782</td>\n",
       "    </tr>\n",
       "    <tr>\n",
       "      <th>married</th>\n",
       "      <td>11566588</td>\n",
       "      <td>2408652</td>\n",
       "      <td>8777810</td>\n",
       "    </tr>\n",
       "    <tr>\n",
       "      <th>single</th>\n",
       "      <td>2695596</td>\n",
       "      <td>558228</td>\n",
       "      <td>2071096</td>\n",
       "    </tr>\n",
       "  </tbody>\n",
       "</table>\n",
       "</div>"
      ],
      "text/plain": [
       "order_frequency_flag              Frequent customer  Non-frequent customer  \\\n",
       "marital_status                                                               \n",
       "divorced/widowed                            1411182                 285827   \n",
       "living with parents and siblings             792820                 161800   \n",
       "married                                    11566588                2408652   \n",
       "single                                      2695596                 558228   \n",
       "\n",
       "order_frequency_flag              Regular customer  \n",
       "marital_status                                      \n",
       "divorced/widowed                           1074346  \n",
       "living with parents and siblings            595782  \n",
       "married                                    8777810  \n",
       "single                                     2071096  "
      ]
     },
     "execution_count": 110,
     "metadata": {},
     "output_type": "execute_result"
    }
   ],
   "source": [
    "mar_status_frequency"
   ]
  },
  {
   "cell_type": "code",
   "execution_count": 118,
   "id": "d63e93fe",
   "metadata": {},
   "outputs": [],
   "source": [
    "# Compare family status with departments \n",
    "fam_status_dep = pd.crosstab(ords_prods_all['department'], ords_prods_all['family_status_loc'], dropna = False)"
   ]
  },
  {
   "cell_type": "code",
   "execution_count": 119,
   "id": "65e20a50",
   "metadata": {},
   "outputs": [
    {
     "data": {
      "text/html": [
       "<div>\n",
       "<style scoped>\n",
       "    .dataframe tbody tr th:only-of-type {\n",
       "        vertical-align: middle;\n",
       "    }\n",
       "\n",
       "    .dataframe tbody tr th {\n",
       "        vertical-align: top;\n",
       "    }\n",
       "\n",
       "    .dataframe thead th {\n",
       "        text-align: right;\n",
       "    }\n",
       "</style>\n",
       "<table border=\"1\" class=\"dataframe\">\n",
       "  <thead>\n",
       "    <tr style=\"text-align: right;\">\n",
       "      <th>family_status_loc</th>\n",
       "      <th>not a parent</th>\n",
       "      <th>parent</th>\n",
       "    </tr>\n",
       "    <tr>\n",
       "      <th>department</th>\n",
       "      <th></th>\n",
       "      <th></th>\n",
       "    </tr>\n",
       "  </thead>\n",
       "  <tbody>\n",
       "    <tr>\n",
       "      <th>alcohol</th>\n",
       "      <td>39118</td>\n",
       "      <td>114578</td>\n",
       "    </tr>\n",
       "    <tr>\n",
       "      <th>babies</th>\n",
       "      <td>106494</td>\n",
       "      <td>317308</td>\n",
       "    </tr>\n",
       "    <tr>\n",
       "      <th>bakery</th>\n",
       "      <td>294405</td>\n",
       "      <td>878023</td>\n",
       "    </tr>\n",
       "    <tr>\n",
       "      <th>beverages</th>\n",
       "      <td>674442</td>\n",
       "      <td>2013681</td>\n",
       "    </tr>\n",
       "    <tr>\n",
       "      <th>breakfast</th>\n",
       "      <td>174577</td>\n",
       "      <td>528456</td>\n",
       "    </tr>\n",
       "    <tr>\n",
       "      <th>bulk</th>\n",
       "      <td>8278</td>\n",
       "      <td>26295</td>\n",
       "    </tr>\n",
       "    <tr>\n",
       "      <th>canned goods</th>\n",
       "      <td>264838</td>\n",
       "      <td>803220</td>\n",
       "    </tr>\n",
       "    <tr>\n",
       "      <th>dairy eggs</th>\n",
       "      <td>1348134</td>\n",
       "      <td>4045486</td>\n",
       "    </tr>\n",
       "    <tr>\n",
       "      <th>deli</th>\n",
       "      <td>265145</td>\n",
       "      <td>786104</td>\n",
       "    </tr>\n",
       "    <tr>\n",
       "      <th>dry goods pasta</th>\n",
       "      <td>215262</td>\n",
       "      <td>651365</td>\n",
       "    </tr>\n",
       "    <tr>\n",
       "      <th>frozen</th>\n",
       "      <td>557160</td>\n",
       "      <td>1677583</td>\n",
       "    </tr>\n",
       "    <tr>\n",
       "      <th>household</th>\n",
       "      <td>180773</td>\n",
       "      <td>557893</td>\n",
       "    </tr>\n",
       "    <tr>\n",
       "      <th>international</th>\n",
       "      <td>67713</td>\n",
       "      <td>201540</td>\n",
       "    </tr>\n",
       "    <tr>\n",
       "      <th>meat seafood</th>\n",
       "      <td>174084</td>\n",
       "      <td>534843</td>\n",
       "    </tr>\n",
       "    <tr>\n",
       "      <th>missing</th>\n",
       "      <td>17088</td>\n",
       "      <td>52057</td>\n",
       "    </tr>\n",
       "    <tr>\n",
       "      <th>other</th>\n",
       "      <td>9175</td>\n",
       "      <td>27116</td>\n",
       "    </tr>\n",
       "    <tr>\n",
       "      <th>pantry</th>\n",
       "      <td>466757</td>\n",
       "      <td>1408612</td>\n",
       "    </tr>\n",
       "    <tr>\n",
       "      <th>personal care</th>\n",
       "      <td>112006</td>\n",
       "      <td>335566</td>\n",
       "    </tr>\n",
       "    <tr>\n",
       "      <th>pets</th>\n",
       "      <td>24583</td>\n",
       "      <td>73133</td>\n",
       "    </tr>\n",
       "    <tr>\n",
       "      <th>produce</th>\n",
       "      <td>2375445</td>\n",
       "      <td>7103846</td>\n",
       "    </tr>\n",
       "    <tr>\n",
       "      <th>snacks</th>\n",
       "      <td>720798</td>\n",
       "      <td>2166752</td>\n",
       "    </tr>\n",
       "  </tbody>\n",
       "</table>\n",
       "</div>"
      ],
      "text/plain": [
       "family_status_loc  not a parent   parent\n",
       "department                              \n",
       "alcohol                   39118   114578\n",
       "babies                   106494   317308\n",
       "bakery                   294405   878023\n",
       "beverages                674442  2013681\n",
       "breakfast                174577   528456\n",
       "bulk                       8278    26295\n",
       "canned goods             264838   803220\n",
       "dairy eggs              1348134  4045486\n",
       "deli                     265145   786104\n",
       "dry goods pasta          215262   651365\n",
       "frozen                   557160  1677583\n",
       "household                180773   557893\n",
       "international             67713   201540\n",
       "meat seafood             174084   534843\n",
       "missing                   17088    52057\n",
       "other                      9175    27116\n",
       "pantry                   466757  1408612\n",
       "personal care            112006   335566\n",
       "pets                      24583    73133\n",
       "produce                 2375445  7103846\n",
       "snacks                   720798  2166752"
      ]
     },
     "execution_count": 119,
     "metadata": {},
     "output_type": "execute_result"
    }
   ],
   "source": [
    "fam_status_dep"
   ]
  },
  {
   "cell_type": "code",
   "execution_count": 120,
   "id": "f56296ec",
   "metadata": {},
   "outputs": [],
   "source": [
    "# Compare family status with spender flag\n",
    "fam_status_spend = pd.crosstab(ords_prods_all['family_status_loc'], ords_prods_all['spender_flag'], dropna = False)"
   ]
  },
  {
   "cell_type": "code",
   "execution_count": 121,
   "id": "8911b3a9",
   "metadata": {},
   "outputs": [
    {
     "data": {
      "text/html": [
       "<div>\n",
       "<style scoped>\n",
       "    .dataframe tbody tr th:only-of-type {\n",
       "        vertical-align: middle;\n",
       "    }\n",
       "\n",
       "    .dataframe tbody tr th {\n",
       "        vertical-align: top;\n",
       "    }\n",
       "\n",
       "    .dataframe thead th {\n",
       "        text-align: right;\n",
       "    }\n",
       "</style>\n",
       "<table border=\"1\" class=\"dataframe\">\n",
       "  <thead>\n",
       "    <tr style=\"text-align: right;\">\n",
       "      <th>spender_flag</th>\n",
       "      <th>High Spender</th>\n",
       "      <th>Low Spender</th>\n",
       "    </tr>\n",
       "    <tr>\n",
       "      <th>family_status_loc</th>\n",
       "      <th></th>\n",
       "      <th></th>\n",
       "    </tr>\n",
       "  </thead>\n",
       "  <tbody>\n",
       "    <tr>\n",
       "      <th>not a parent</th>\n",
       "      <td>152304</td>\n",
       "      <td>7943971</td>\n",
       "    </tr>\n",
       "    <tr>\n",
       "      <th>parent</th>\n",
       "      <td>476814</td>\n",
       "      <td>23826643</td>\n",
       "    </tr>\n",
       "  </tbody>\n",
       "</table>\n",
       "</div>"
      ],
      "text/plain": [
       "spender_flag       High Spender  Low Spender\n",
       "family_status_loc                           \n",
       "not a parent             152304      7943971\n",
       "parent                   476814     23826643"
      ]
     },
     "execution_count": 121,
     "metadata": {},
     "output_type": "execute_result"
    }
   ],
   "source": [
    "fam_status_spend"
   ]
  },
  {
   "cell_type": "code",
   "execution_count": 122,
   "id": "8e128f60",
   "metadata": {},
   "outputs": [],
   "source": [
    "# Compare family status with order frequency\n",
    "fam_status_frequency = pd.crosstab(ords_prods_all['family_status_loc'], ords_prods_all['order_frequency_flag'], dropna = False)"
   ]
  },
  {
   "cell_type": "code",
   "execution_count": 123,
   "id": "75c2a3e6",
   "metadata": {},
   "outputs": [
    {
     "data": {
      "text/html": [
       "<div>\n",
       "<style scoped>\n",
       "    .dataframe tbody tr th:only-of-type {\n",
       "        vertical-align: middle;\n",
       "    }\n",
       "\n",
       "    .dataframe tbody tr th {\n",
       "        vertical-align: top;\n",
       "    }\n",
       "\n",
       "    .dataframe thead th {\n",
       "        text-align: right;\n",
       "    }\n",
       "</style>\n",
       "<table border=\"1\" class=\"dataframe\">\n",
       "  <thead>\n",
       "    <tr style=\"text-align: right;\">\n",
       "      <th>order_frequency_flag</th>\n",
       "      <th>Frequent customer</th>\n",
       "      <th>Non-frequent customer</th>\n",
       "      <th>Regular customer</th>\n",
       "    </tr>\n",
       "    <tr>\n",
       "      <th>family_status_loc</th>\n",
       "      <th></th>\n",
       "      <th></th>\n",
       "      <th></th>\n",
       "    </tr>\n",
       "  </thead>\n",
       "  <tbody>\n",
       "    <tr>\n",
       "      <th>not a parent</th>\n",
       "      <td>4106778</td>\n",
       "      <td>844055</td>\n",
       "      <td>3145442</td>\n",
       "    </tr>\n",
       "    <tr>\n",
       "      <th>parent</th>\n",
       "      <td>12359408</td>\n",
       "      <td>2570452</td>\n",
       "      <td>9373592</td>\n",
       "    </tr>\n",
       "  </tbody>\n",
       "</table>\n",
       "</div>"
      ],
      "text/plain": [
       "order_frequency_flag  Frequent customer  Non-frequent customer  \\\n",
       "family_status_loc                                                \n",
       "not a parent                    4106778                 844055   \n",
       "parent                         12359408                2570452   \n",
       "\n",
       "order_frequency_flag  Regular customer  \n",
       "family_status_loc                       \n",
       "not a parent                   3145442  \n",
       "parent                         9373592  "
      ]
     },
     "execution_count": 123,
     "metadata": {},
     "output_type": "execute_result"
    }
   ],
   "source": [
    "fam_status_frequency"
   ]
  },
  {
   "cell_type": "code",
   "execution_count": 223,
   "id": "be4f3f77",
   "metadata": {},
   "outputs": [],
   "source": [
    "# Compare age with income level\n",
    "age_income = pd.crosstab(ords_prods_all['age_group'], ords_prods_all['income_level'], dropna = False)"
   ]
  },
  {
   "cell_type": "code",
   "execution_count": 224,
   "id": "c83c0c87",
   "metadata": {},
   "outputs": [
    {
     "data": {
      "text/html": [
       "<div>\n",
       "<style scoped>\n",
       "    .dataframe tbody tr th:only-of-type {\n",
       "        vertical-align: middle;\n",
       "    }\n",
       "\n",
       "    .dataframe tbody tr th {\n",
       "        vertical-align: top;\n",
       "    }\n",
       "\n",
       "    .dataframe thead th {\n",
       "        text-align: right;\n",
       "    }\n",
       "</style>\n",
       "<table border=\"1\" class=\"dataframe\">\n",
       "  <thead>\n",
       "    <tr style=\"text-align: right;\">\n",
       "      <th>income_level</th>\n",
       "      <th>high income</th>\n",
       "      <th>low income</th>\n",
       "      <th>middle income</th>\n",
       "    </tr>\n",
       "    <tr>\n",
       "      <th>age_group</th>\n",
       "      <th></th>\n",
       "      <th></th>\n",
       "      <th></th>\n",
       "    </tr>\n",
       "  </thead>\n",
       "  <tbody>\n",
       "    <tr>\n",
       "      <th>middle age</th>\n",
       "      <td>3143433</td>\n",
       "      <td>1388888</td>\n",
       "      <td>8131212</td>\n",
       "    </tr>\n",
       "    <tr>\n",
       "      <th>senior</th>\n",
       "      <td>2208767</td>\n",
       "      <td>888730</td>\n",
       "      <td>5476254</td>\n",
       "    </tr>\n",
       "    <tr>\n",
       "      <th>young adult</th>\n",
       "      <td>108528</td>\n",
       "      <td>2860266</td>\n",
       "      <td>8193654</td>\n",
       "    </tr>\n",
       "  </tbody>\n",
       "</table>\n",
       "</div>"
      ],
      "text/plain": [
       "income_level  high income  low income  middle income\n",
       "age_group                                           \n",
       "middle age        3143433     1388888        8131212\n",
       "senior            2208767      888730        5476254\n",
       "young adult        108528     2860266        8193654"
      ]
     },
     "execution_count": 224,
     "metadata": {},
     "output_type": "execute_result"
    }
   ],
   "source": [
    "age_income"
   ]
  },
  {
   "cell_type": "code",
   "execution_count": 225,
   "id": "28e27dcd",
   "metadata": {},
   "outputs": [],
   "source": [
    "# Compare income level with order frequency \n",
    "income_order = pd.crosstab(ords_prods_all['income_level'], ords_prods_all['order_frequency_flag'], dropna = False)"
   ]
  },
  {
   "cell_type": "code",
   "execution_count": 226,
   "id": "275f2847",
   "metadata": {},
   "outputs": [
    {
     "data": {
      "text/html": [
       "<div>\n",
       "<style scoped>\n",
       "    .dataframe tbody tr th:only-of-type {\n",
       "        vertical-align: middle;\n",
       "    }\n",
       "\n",
       "    .dataframe tbody tr th {\n",
       "        vertical-align: top;\n",
       "    }\n",
       "\n",
       "    .dataframe thead th {\n",
       "        text-align: right;\n",
       "    }\n",
       "</style>\n",
       "<table border=\"1\" class=\"dataframe\">\n",
       "  <thead>\n",
       "    <tr style=\"text-align: right;\">\n",
       "      <th>order_frequency_flag</th>\n",
       "      <th>Frequent customer</th>\n",
       "      <th>Non-frequent customer</th>\n",
       "      <th>Regular customer</th>\n",
       "    </tr>\n",
       "    <tr>\n",
       "      <th>income_level</th>\n",
       "      <th></th>\n",
       "      <th></th>\n",
       "      <th></th>\n",
       "    </tr>\n",
       "  </thead>\n",
       "  <tbody>\n",
       "    <tr>\n",
       "      <th>high income</th>\n",
       "      <td>2818391</td>\n",
       "      <td>540294</td>\n",
       "      <td>2102043</td>\n",
       "    </tr>\n",
       "    <tr>\n",
       "      <th>low income</th>\n",
       "      <td>2524479</td>\n",
       "      <td>654397</td>\n",
       "      <td>1959008</td>\n",
       "    </tr>\n",
       "    <tr>\n",
       "      <th>middle income</th>\n",
       "      <td>11123316</td>\n",
       "      <td>2219816</td>\n",
       "      <td>8457983</td>\n",
       "    </tr>\n",
       "  </tbody>\n",
       "</table>\n",
       "</div>"
      ],
      "text/plain": [
       "order_frequency_flag  Frequent customer  Non-frequent customer  \\\n",
       "income_level                                                     \n",
       "high income                     2818391                 540294   \n",
       "low income                      2524479                 654397   \n",
       "middle income                  11123316                2219816   \n",
       "\n",
       "order_frequency_flag  Regular customer  \n",
       "income_level                            \n",
       "high income                    2102043  \n",
       "low income                     1959008  \n",
       "middle income                  8457983  "
      ]
     },
     "execution_count": 226,
     "metadata": {},
     "output_type": "execute_result"
    }
   ],
   "source": [
    "income_order"
   ]
  },
  {
   "cell_type": "code",
   "execution_count": 227,
   "id": "f0aaa3fb",
   "metadata": {},
   "outputs": [],
   "source": [
    "# Compare income level with departments  \n",
    "income_dep = pd.crosstab(ords_prods_all['department'], ords_prods_all['income_level'], dropna = False)"
   ]
  },
  {
   "cell_type": "code",
   "execution_count": 228,
   "id": "7e2f2c9b",
   "metadata": {},
   "outputs": [
    {
     "data": {
      "text/html": [
       "<div>\n",
       "<style scoped>\n",
       "    .dataframe tbody tr th:only-of-type {\n",
       "        vertical-align: middle;\n",
       "    }\n",
       "\n",
       "    .dataframe tbody tr th {\n",
       "        vertical-align: top;\n",
       "    }\n",
       "\n",
       "    .dataframe thead th {\n",
       "        text-align: right;\n",
       "    }\n",
       "</style>\n",
       "<table border=\"1\" class=\"dataframe\">\n",
       "  <thead>\n",
       "    <tr style=\"text-align: right;\">\n",
       "      <th>income_level</th>\n",
       "      <th>high income</th>\n",
       "      <th>low income</th>\n",
       "      <th>middle income</th>\n",
       "    </tr>\n",
       "    <tr>\n",
       "      <th>department</th>\n",
       "      <th></th>\n",
       "      <th></th>\n",
       "      <th></th>\n",
       "    </tr>\n",
       "  </thead>\n",
       "  <tbody>\n",
       "    <tr>\n",
       "      <th>alcohol</th>\n",
       "      <td>31127</td>\n",
       "      <td>26127</td>\n",
       "      <td>96442</td>\n",
       "    </tr>\n",
       "    <tr>\n",
       "      <th>babies</th>\n",
       "      <td>74521</td>\n",
       "      <td>49282</td>\n",
       "      <td>299999</td>\n",
       "    </tr>\n",
       "    <tr>\n",
       "      <th>bakery</th>\n",
       "      <td>206136</td>\n",
       "      <td>168591</td>\n",
       "      <td>797701</td>\n",
       "    </tr>\n",
       "    <tr>\n",
       "      <th>beverages</th>\n",
       "      <td>436158</td>\n",
       "      <td>540333</td>\n",
       "      <td>1711632</td>\n",
       "    </tr>\n",
       "    <tr>\n",
       "      <th>breakfast</th>\n",
       "      <td>115908</td>\n",
       "      <td>133334</td>\n",
       "      <td>453791</td>\n",
       "    </tr>\n",
       "    <tr>\n",
       "      <th>bulk</th>\n",
       "      <td>5154</td>\n",
       "      <td>6571</td>\n",
       "      <td>22848</td>\n",
       "    </tr>\n",
       "    <tr>\n",
       "      <th>canned goods</th>\n",
       "      <td>188956</td>\n",
       "      <td>136288</td>\n",
       "      <td>742814</td>\n",
       "    </tr>\n",
       "    <tr>\n",
       "      <th>dairy eggs</th>\n",
       "      <td>920437</td>\n",
       "      <td>786537</td>\n",
       "      <td>3686646</td>\n",
       "    </tr>\n",
       "    <tr>\n",
       "      <th>deli</th>\n",
       "      <td>177019</td>\n",
       "      <td>163645</td>\n",
       "      <td>710585</td>\n",
       "    </tr>\n",
       "    <tr>\n",
       "      <th>dry goods pasta</th>\n",
       "      <td>150716</td>\n",
       "      <td>110544</td>\n",
       "      <td>605367</td>\n",
       "    </tr>\n",
       "    <tr>\n",
       "      <th>frozen</th>\n",
       "      <td>384195</td>\n",
       "      <td>337225</td>\n",
       "      <td>1513323</td>\n",
       "    </tr>\n",
       "    <tr>\n",
       "      <th>household</th>\n",
       "      <td>128445</td>\n",
       "      <td>128968</td>\n",
       "      <td>481253</td>\n",
       "    </tr>\n",
       "    <tr>\n",
       "      <th>international</th>\n",
       "      <td>46423</td>\n",
       "      <td>36009</td>\n",
       "      <td>186821</td>\n",
       "    </tr>\n",
       "    <tr>\n",
       "      <th>meat seafood</th>\n",
       "      <td>128996</td>\n",
       "      <td>66429</td>\n",
       "      <td>513502</td>\n",
       "    </tr>\n",
       "    <tr>\n",
       "      <th>missing</th>\n",
       "      <td>11701</td>\n",
       "      <td>10537</td>\n",
       "      <td>46907</td>\n",
       "    </tr>\n",
       "    <tr>\n",
       "      <th>other</th>\n",
       "      <td>6239</td>\n",
       "      <td>5808</td>\n",
       "      <td>24244</td>\n",
       "    </tr>\n",
       "    <tr>\n",
       "      <th>pantry</th>\n",
       "      <td>326201</td>\n",
       "      <td>265621</td>\n",
       "      <td>1283547</td>\n",
       "    </tr>\n",
       "    <tr>\n",
       "      <th>personal care</th>\n",
       "      <td>75612</td>\n",
       "      <td>73322</td>\n",
       "      <td>298638</td>\n",
       "    </tr>\n",
       "    <tr>\n",
       "      <th>pets</th>\n",
       "      <td>17948</td>\n",
       "      <td>14064</td>\n",
       "      <td>65704</td>\n",
       "    </tr>\n",
       "    <tr>\n",
       "      <th>produce</th>\n",
       "      <td>1605736</td>\n",
       "      <td>1326833</td>\n",
       "      <td>6546722</td>\n",
       "    </tr>\n",
       "    <tr>\n",
       "      <th>snacks</th>\n",
       "      <td>423100</td>\n",
       "      <td>751816</td>\n",
       "      <td>1712634</td>\n",
       "    </tr>\n",
       "  </tbody>\n",
       "</table>\n",
       "</div>"
      ],
      "text/plain": [
       "income_level     high income  low income  middle income\n",
       "department                                             \n",
       "alcohol                31127       26127          96442\n",
       "babies                 74521       49282         299999\n",
       "bakery                206136      168591         797701\n",
       "beverages             436158      540333        1711632\n",
       "breakfast             115908      133334         453791\n",
       "bulk                    5154        6571          22848\n",
       "canned goods          188956      136288         742814\n",
       "dairy eggs            920437      786537        3686646\n",
       "deli                  177019      163645         710585\n",
       "dry goods pasta       150716      110544         605367\n",
       "frozen                384195      337225        1513323\n",
       "household             128445      128968         481253\n",
       "international          46423       36009         186821\n",
       "meat seafood          128996       66429         513502\n",
       "missing                11701       10537          46907\n",
       "other                   6239        5808          24244\n",
       "pantry                326201      265621        1283547\n",
       "personal care          75612       73322         298638\n",
       "pets                   17948       14064          65704\n",
       "produce              1605736     1326833        6546722\n",
       "snacks                423100      751816        1712634"
      ]
     },
     "execution_count": 228,
     "metadata": {},
     "output_type": "execute_result"
    }
   ],
   "source": [
    "income_dep"
   ]
  },
  {
   "cell_type": "code",
   "execution_count": 229,
   "id": "2a2b8c78",
   "metadata": {},
   "outputs": [],
   "source": [
    "# Compare orders by age group and day of week   \n",
    "age_day = pd.crosstab(ords_prods_all['orders_day_of_week'], ords_prods_all['age_group'], dropna = False)"
   ]
  },
  {
   "cell_type": "code",
   "execution_count": 230,
   "id": "feb90d53",
   "metadata": {},
   "outputs": [
    {
     "data": {
      "text/html": [
       "<div>\n",
       "<style scoped>\n",
       "    .dataframe tbody tr th:only-of-type {\n",
       "        vertical-align: middle;\n",
       "    }\n",
       "\n",
       "    .dataframe tbody tr th {\n",
       "        vertical-align: top;\n",
       "    }\n",
       "\n",
       "    .dataframe thead th {\n",
       "        text-align: right;\n",
       "    }\n",
       "</style>\n",
       "<table border=\"1\" class=\"dataframe\">\n",
       "  <thead>\n",
       "    <tr style=\"text-align: right;\">\n",
       "      <th>age_group</th>\n",
       "      <th>middle age</th>\n",
       "      <th>senior</th>\n",
       "      <th>young adult</th>\n",
       "    </tr>\n",
       "    <tr>\n",
       "      <th>orders_day_of_week</th>\n",
       "      <th></th>\n",
       "      <th></th>\n",
       "      <th></th>\n",
       "    </tr>\n",
       "  </thead>\n",
       "  <tbody>\n",
       "    <tr>\n",
       "      <th>0.0</th>\n",
       "      <td>2415244</td>\n",
       "      <td>1643036</td>\n",
       "      <td>2145049</td>\n",
       "    </tr>\n",
       "    <tr>\n",
       "      <th>1.0</th>\n",
       "      <td>2209580</td>\n",
       "      <td>1482894</td>\n",
       "      <td>1966824</td>\n",
       "    </tr>\n",
       "    <tr>\n",
       "      <th>2.0</th>\n",
       "      <td>1656732</td>\n",
       "      <td>1114171</td>\n",
       "      <td>1442202</td>\n",
       "    </tr>\n",
       "    <tr>\n",
       "      <th>3.0</th>\n",
       "      <td>1498527</td>\n",
       "      <td>1022793</td>\n",
       "      <td>1318545</td>\n",
       "    </tr>\n",
       "    <tr>\n",
       "      <th>4.0</th>\n",
       "      <td>1477058</td>\n",
       "      <td>998033</td>\n",
       "      <td>1308081</td>\n",
       "    </tr>\n",
       "    <tr>\n",
       "      <th>5.0</th>\n",
       "      <td>1642823</td>\n",
       "      <td>1113164</td>\n",
       "      <td>1449089</td>\n",
       "    </tr>\n",
       "    <tr>\n",
       "      <th>6.0</th>\n",
       "      <td>1763569</td>\n",
       "      <td>1199660</td>\n",
       "      <td>1532658</td>\n",
       "    </tr>\n",
       "  </tbody>\n",
       "</table>\n",
       "</div>"
      ],
      "text/plain": [
       "age_group           middle age   senior  young adult\n",
       "orders_day_of_week                                  \n",
       "0.0                    2415244  1643036      2145049\n",
       "1.0                    2209580  1482894      1966824\n",
       "2.0                    1656732  1114171      1442202\n",
       "3.0                    1498527  1022793      1318545\n",
       "4.0                    1477058   998033      1308081\n",
       "5.0                    1642823  1113164      1449089\n",
       "6.0                    1763569  1199660      1532658"
      ]
     },
     "execution_count": 230,
     "metadata": {},
     "output_type": "execute_result"
    }
   ],
   "source": [
    "age_day"
   ]
  },
  {
   "cell_type": "code",
   "execution_count": 231,
   "id": "b5d1e8db",
   "metadata": {},
   "outputs": [],
   "source": [
    "# Compare income level with price range  \n",
    "price_income = pd.crosstab(ords_prods_all['income_level'], ords_prods_all['price_label'], dropna = False)"
   ]
  },
  {
   "cell_type": "code",
   "execution_count": 232,
   "id": "91a27c95",
   "metadata": {},
   "outputs": [
    {
     "data": {
      "text/html": [
       "<div>\n",
       "<style scoped>\n",
       "    .dataframe tbody tr th:only-of-type {\n",
       "        vertical-align: middle;\n",
       "    }\n",
       "\n",
       "    .dataframe tbody tr th {\n",
       "        vertical-align: top;\n",
       "    }\n",
       "\n",
       "    .dataframe thead th {\n",
       "        text-align: right;\n",
       "    }\n",
       "</style>\n",
       "<table border=\"1\" class=\"dataframe\">\n",
       "  <thead>\n",
       "    <tr style=\"text-align: right;\">\n",
       "      <th>price_label</th>\n",
       "      <th>High-range product</th>\n",
       "      <th>Low-range product</th>\n",
       "      <th>Mid-range product</th>\n",
       "    </tr>\n",
       "    <tr>\n",
       "      <th>income_level</th>\n",
       "      <th></th>\n",
       "      <th></th>\n",
       "      <th></th>\n",
       "    </tr>\n",
       "  </thead>\n",
       "  <tbody>\n",
       "    <tr>\n",
       "      <th>high income</th>\n",
       "      <td>75627</td>\n",
       "      <td>1625856</td>\n",
       "      <td>3759245</td>\n",
       "    </tr>\n",
       "    <tr>\n",
       "      <th>low income</th>\n",
       "      <td>35589</td>\n",
       "      <td>2004418</td>\n",
       "      <td>3097877</td>\n",
       "    </tr>\n",
       "    <tr>\n",
       "      <th>middle income</th>\n",
       "      <td>301335</td>\n",
       "      <td>6496047</td>\n",
       "      <td>15003738</td>\n",
       "    </tr>\n",
       "  </tbody>\n",
       "</table>\n",
       "</div>"
      ],
      "text/plain": [
       "price_label    High-range product  Low-range product  Mid-range product\n",
       "income_level                                                           \n",
       "high income                 75627            1625856            3759245\n",
       "low income                  35589            2004418            3097877\n",
       "middle income              301335            6496047           15003738"
      ]
     },
     "execution_count": 232,
     "metadata": {},
     "output_type": "execute_result"
    }
   ],
   "source": [
    "price_income"
   ]
  },
  {
   "cell_type": "markdown",
   "id": "a3136902",
   "metadata": {},
   "source": [
    "### Step 9: Produce charts to illustrate results and export"
   ]
  },
  {
   "cell_type": "code",
   "execution_count": 55,
   "id": "3ff49d97",
   "metadata": {},
   "outputs": [
    {
     "data": {
      "image/png": "[encoded data removed]",
      "text/plain": [
       "<Figure size 432x288 with 1 Axes>"
      ]
     },
     "metadata": {
      "needs_background": "light"
     },
     "output_type": "display_data"
    }
   ],
   "source": [
    "# bar chart showing when customers spend the most on different priced products\n",
    "time_price_label_bar = time_price_label.plot(kind='bar', stacked=True, color = sns.color_palette('Blues', 5))"
   ]
  },
  {
   "cell_type": "code",
   "execution_count": 56,
   "id": "1d7f8435",
   "metadata": {},
   "outputs": [],
   "source": [
    "# Export bar chart\n",
    "time_price_label_bar.figure.savefig(os.path.join(path, '04 Analysis', 'Visualizations', 'time_price_label_bar.png'))"
   ]
  },
  {
   "cell_type": "code",
   "execution_count": 58,
   "id": "2001a6f3",
   "metadata": {
    "scrolled": true
   },
   "outputs": [
    {
     "data": {
      "image/png": "[encoded data removed]",
      "text/plain": [
       "<Figure size 432x288 with 1 Axes>"
      ]
     },
     "metadata": {
      "needs_background": "light"
     },
     "output_type": "display_data"
    }
   ],
   "source": [
    "# Bar chart showing price range distribution \n",
    "price_label_bar = ords_prods_all.groupby('price_label').size().sort_values(ascending = True).plot.barh()"
   ]
  },
  {
   "cell_type": "code",
   "execution_count": 59,
   "id": "7101c773",
   "metadata": {},
   "outputs": [],
   "source": [
    "# Export bar chart\n",
    "price_label_bar.figure.savefig(os.path.join(path, '04 Analysis', 'Visualizations', 'price_label_bar.png'))"
   ]
  },
  {
   "cell_type": "code",
   "execution_count": 60,
   "id": "49d5edcf",
   "metadata": {},
   "outputs": [
    {
     "data": {
      "image/png": "[encoded data removed]",
      "text/plain": [
       "<Figure size 432x288 with 1 Axes>"
      ]
     },
     "metadata": {
      "needs_background": "light"
     },
     "output_type": "display_data"
    }
   ],
   "source": [
    "# Bar chart showing top 10 most popular products\n",
    "product_bar = ords_prods_all.groupby('product_name').size().sort_values(ascending = True).tail(10).plot.barh(color = 'purple')"
   ]
  },
  {
   "cell_type": "code",
   "execution_count": 62,
   "id": "a376710b",
   "metadata": {},
   "outputs": [],
   "source": [
    "# Export bar chart\n",
    "product_bar.figure.savefig(os.path.join(path, '04 Analysis', 'Visualizations', 'product_bar.png'))"
   ]
  },
  {
   "cell_type": "code",
   "execution_count": 63,
   "id": "c076d2c3",
   "metadata": {},
   "outputs": [
    {
     "data": {
      "image/png": "[encoded data removed]",
      "text/plain": [
       "<Figure size 432x288 with 1 Axes>"
      ]
     },
     "metadata": {
      "needs_background": "light"
     },
     "output_type": "display_data"
    }
   ],
   "source": [
    "# Create bar chart of top 10 departments by count\n",
    "top_10_depts = ords_prods_all.groupby('department').size().sort_values(ascending = True).tail(10).plot.barh(color = 'purple')"
   ]
  },
  {
   "cell_type": "code",
   "execution_count": 64,
   "id": "a9dc5611",
   "metadata": {},
   "outputs": [],
   "source": [
    "# Export bar chart\n",
    "top_10_depts.figure.savefig(os.path.join(path, '04 Analysis', 'Visualizations', 'top_10_depts_bar.png'))"
   ]
  },
  {
   "cell_type": "code",
   "execution_count": 65,
   "id": "1d180874",
   "metadata": {},
   "outputs": [
    {
     "data": {
      "text/plain": [
       "Text(0.5, 1.0, 'High/Low Spender by Loyalty Status')"
      ]
     },
     "execution_count": 65,
     "metadata": {},
     "output_type": "execute_result"
    },
    {
     "data": {
      "image/png": "[encoded data removed]",
      "text/plain": [
       "<Figure size 432x288 with 1 Axes>"
      ]
     },
     "metadata": {
      "needs_background": "light"
     },
     "output_type": "display_data"
    }
   ],
   "source": [
    "# Create stacked bar chart to show spending by loyalty status \n",
    "loyalty_spend_bar = loyalty_spend.plot(kind='bar', stacked=True, color = ['blue', 'tan'])\n",
    "plt.title('High/Low Spender by Loyalty Status')"
   ]
  },
  {
   "cell_type": "code",
   "execution_count": 66,
   "id": "69578f2c",
   "metadata": {},
   "outputs": [],
   "source": [
    "# Export bar chart\n",
    "loyalty_spend_bar.figure.savefig(os.path.join(path, '04 Analysis', 'Visualizations', 'loyalty_spend_bar.png'))"
   ]
  },
  {
   "cell_type": "code",
   "execution_count": 67,
   "id": "7ded3463",
   "metadata": {},
   "outputs": [
    {
     "data": {
      "text/plain": [
       "Text(0.5, 1.0, 'Order Frequency by Loyalty Status')"
      ]
     },
     "execution_count": 67,
     "metadata": {},
     "output_type": "execute_result"
    },
    {
     "data": {
      "image/png": "[encoded data removed]",
      "text/plain": [
       "<Figure size 432x288 with 1 Axes>"
      ]
     },
     "metadata": {
      "needs_background": "light"
     },
     "output_type": "display_data"
    }
   ],
   "source": [
    "# Create stacked bar chart to show order frequency by loyalty status\n",
    "loyalty_order_bar = loyalty_order.plot(kind='bar', stacked=True, color = ['blue', 'tan', 'orange'])\n",
    "plt.title('Order Frequency by Loyalty Status')"
   ]
  },
  {
   "cell_type": "code",
   "execution_count": 73,
   "id": "effc49f8",
   "metadata": {},
   "outputs": [],
   "source": [
    "# Export bar chart\n",
    "loyalty_order_bar.figure.savefig(os.path.join(path, '04 Analysis', 'Visualizations', 'loyalty_order_bar.png'))"
   ]
  },
  {
   "cell_type": "code",
   "execution_count": 68,
   "id": "975f177e",
   "metadata": {
    "scrolled": true
   },
   "outputs": [
    {
     "data": {
      "text/plain": [
       "Text(0.5, 1.0, 'Price of Products by Loyalty Status')"
      ]
     },
     "execution_count": 68,
     "metadata": {},
     "output_type": "execute_result"
    },
    {
     "data": {
      "image/png": "[encoded data removed]",
      "text/plain": [
       "<Figure size 432x288 with 1 Axes>"
      ]
     },
     "metadata": {
      "needs_background": "light"
     },
     "output_type": "display_data"
    }
   ],
   "source": [
    "# Create stacked bar chart to show price label by loyalty status\n",
    "loyalty_price_bar = loyalty_price.plot(kind='bar', stacked=True, color = ['blue', 'tan', 'orange'])\n",
    "plt.title('Price of Products by Loyalty Status')"
   ]
  },
  {
   "cell_type": "code",
   "execution_count": 74,
   "id": "5133b7d8",
   "metadata": {},
   "outputs": [],
   "source": [
    "# Export bar chart\n",
    "loyalty_price_bar.figure.savefig(os.path.join(path, '04 Analysis', 'Visualizations', 'loyalty_price_bar.png'))"
   ]
  },
  {
   "cell_type": "code",
   "execution_count": 86,
   "id": "8b1dcc20",
   "metadata": {
    "scrolled": true
   },
   "outputs": [
    {
     "data": {
      "text/plain": [
       "Text(0.5, 1.0, 'Spending by Age Group')"
      ]
     },
     "execution_count": 86,
     "metadata": {},
     "output_type": "execute_result"
    },
    {
     "data": {
      "image/png": "[encoded data removed]",
      "text/plain": [
       "<Figure size 432x288 with 1 Axes>"
      ]
     },
     "metadata": {
      "needs_background": "light"
     },
     "output_type": "display_data"
    }
   ],
   "source": [
    "# Create stacked bar chart to show spending by age group\n",
    "age_spend_bar = age_spend.plot(kind='bar', stacked=True, color = sns.color_palette('Greens', 2))\n",
    "plt.title('Spending by Age Group')"
   ]
  },
  {
   "cell_type": "code",
   "execution_count": 87,
   "id": "c4b76098",
   "metadata": {},
   "outputs": [],
   "source": [
    "# Export bar chart\n",
    "age_spend_bar.figure.savefig(os.path.join(path, '04 Analysis', 'Visualizations', 'age_spend_bar.png'))"
   ]
  },
  {
   "cell_type": "code",
   "execution_count": 88,
   "id": "7af5b691",
   "metadata": {},
   "outputs": [
    {
     "data": {
      "text/plain": [
       "Text(0.5, 1.0, 'Order Frequency by Age Group')"
      ]
     },
     "execution_count": 88,
     "metadata": {},
     "output_type": "execute_result"
    },
    {
     "data": {
      "image/png": "[encoded data removed]",
      "text/plain": [
       "<Figure size 432x288 with 1 Axes>"
      ]
     },
     "metadata": {
      "needs_background": "light"
     },
     "output_type": "display_data"
    }
   ],
   "source": [
    "# Create stacked bar chart to show order frequency by age group\n",
    "age_frequency_bar = age_frequency.plot(kind='bar', stacked=True, color = sns.color_palette('Greens', 3))\n",
    "plt.title('Order Frequency by Age Group')"
   ]
  },
  {
   "cell_type": "code",
   "execution_count": 89,
   "id": "d7077e87",
   "metadata": {},
   "outputs": [],
   "source": [
    "# Export bar chart\n",
    "age_frequency_bar.figure.savefig(os.path.join(path, '04 Analysis', 'Visualizations', 'age_frequency_bar.png'))"
   ]
  },
  {
   "cell_type": "code",
   "execution_count": 71,
   "id": "aab3ce69",
   "metadata": {},
   "outputs": [
    {
     "data": {
      "text/plain": [
       "Text(0.5, 1.0, 'Income Level by Region')"
      ]
     },
     "execution_count": 71,
     "metadata": {},
     "output_type": "execute_result"
    },
    {
     "data": {
      "image/png": "[encoded data removed]",
      "text/plain": [
       "<Figure size 432x288 with 1 Axes>"
      ]
     },
     "metadata": {
      "needs_background": "light"
     },
     "output_type": "display_data"
    }
   ],
   "source": [
    "income_region_bar =income_region_crosstab.plot(kind='bar', stacked=True, color = ['maroon', 'grey', 'green'])\n",
    "plt.title('Income Level by Region')"
   ]
  },
  {
   "cell_type": "code",
   "execution_count": 77,
   "id": "685f6c70",
   "metadata": {},
   "outputs": [],
   "source": [
    "# Export bar chart\n",
    "income_region_bar.figure.savefig(os.path.join(path, '04 Analysis', 'Visualizations', 'income_region_bar.png'))"
   ]
  },
  {
   "cell_type": "code",
   "execution_count": 155,
   "id": "ea207996",
   "metadata": {},
   "outputs": [
    {
     "data": {
      "text/plain": [
       "Text(0.5, 1.0, 'Order Frequency by Region')"
      ]
     },
     "execution_count": 155,
     "metadata": {},
     "output_type": "execute_result"
    },
    {
     "data": {
      "image/png": "[encoded data removed]",
      "text/plain": [
       "<Figure size 432x288 with 1 Axes>"
      ]
     },
     "metadata": {
      "needs_background": "light"
     },
     "output_type": "display_data"
    }
   ],
   "source": [
    "# Create bar chart of spending by region\n",
    "spender_region_bar = spender_region.plot(kind='bar', stacked=True, color = sns.color_palette('dark:salmon_r', 2))\n",
    "plt.title('Order Frequency by Region')"
   ]
  },
  {
   "cell_type": "code",
   "execution_count": 156,
   "id": "36c6872b",
   "metadata": {},
   "outputs": [],
   "source": [
    "# Export bar chart\n",
    "spender_region_bar.figure.savefig(os.path.join(path, '04 Analysis', 'Visualizations', 'spender_region_bar.png'))"
   ]
  },
  {
   "cell_type": "code",
   "execution_count": 153,
   "id": "53c8ccc4",
   "metadata": {
    "scrolled": true
   },
   "outputs": [
    {
     "data": {
      "text/plain": [
       "Text(0.5, 1.0, 'Order Frequency by Region')"
      ]
     },
     "execution_count": 153,
     "metadata": {},
     "output_type": "execute_result"
    },
    {
     "data": {
      "image/png": "[encoded data removed]",
      "text/plain": [
       "<Figure size 432x288 with 1 Axes>"
      ]
     },
     "metadata": {
      "needs_background": "light"
     },
     "output_type": "display_data"
    }
   ],
   "source": [
    "# Create bar chart of order frequency by region\n",
    "freq_region_bar = freq_region.plot(kind='bar', stacked=True, color = sns.color_palette('dark:salmon_r', 3))\n",
    "plt.title('Order Frequency by Region')"
   ]
  },
  {
   "cell_type": "code",
   "execution_count": 154,
   "id": "f11302d6",
   "metadata": {},
   "outputs": [],
   "source": [
    "# Export bar chart\n",
    "freq_region_bar.figure.savefig(os.path.join(path, '04 Analysis', 'Visualizations', 'freq_region_bar.png'))"
   ]
  },
  {
   "cell_type": "code",
   "execution_count": null,
   "id": "909acc76",
   "metadata": {},
   "outputs": [],
   "source": [
    "# Create bar chart of order frequency by region\n",
    "freq_region_bar = freq_region.plot(kind='bar', stacked=True, color = ['maroon', 'grey', 'green'])\n",
    "plt.title('Order Frequency by Region')"
   ]
  },
  {
   "cell_type": "code",
   "execution_count": 98,
   "id": "ae995347",
   "metadata": {},
   "outputs": [
    {
     "data": {
      "text/plain": [
       "Text(0.5, 1.0, 'Orders by Department and Age Group')"
      ]
     },
     "execution_count": 98,
     "metadata": {},
     "output_type": "execute_result"
    },
    {
     "data": {
      "image/png": "[encoded data removed]",
      "text/plain": [
       "<Figure size 432x288 with 1 Axes>"
      ]
     },
     "metadata": {
      "needs_background": "light"
     },
     "output_type": "display_data"
    }
   ],
   "source": [
    "# Create bar chart to show orders by department and age group\n",
    "dep_age_bar = dep_age.plot(kind='bar', stacked = True, color = sns.color_palette('Greens', 3))\n",
    "plt.legend(loc='right', bbox_to_anchor=(1.0, 0.75))\n",
    "plt.title('Orders by Department and Age Group')"
   ]
  },
  {
   "cell_type": "code",
   "execution_count": 99,
   "id": "54a8ba97",
   "metadata": {},
   "outputs": [],
   "source": [
    "# Export bar chart\n",
    "dep_age_bar.figure.savefig(os.path.join(path, '04 Analysis', 'Visualizations', 'dep_age_bar.png'))"
   ]
  },
  {
   "cell_type": "code",
   "execution_count": 108,
   "id": "a8ea5bea",
   "metadata": {},
   "outputs": [
    {
     "data": {
      "text/plain": [
       "Text(0.5, 1.0, 'Spending by Marital Status')"
      ]
     },
     "execution_count": 108,
     "metadata": {},
     "output_type": "execute_result"
    },
    {
     "data": {
      "image/png": "[encoded data removed]",
      "text/plain": [
       "<Figure size 432x288 with 1 Axes>"
      ]
     },
     "metadata": {
      "needs_background": "light"
     },
     "output_type": "display_data"
    }
   ],
   "source": [
    "# Create stacked bar chart to show spending by marital status\n",
    "mar_status_spend_bar = mar_status_spend.plot(kind='bar', stacked=True, color = sns.color_palette('Reds', 2))\n",
    "plt.title('Spending by Marital Status')"
   ]
  },
  {
   "cell_type": "code",
   "execution_count": 107,
   "id": "b6dfe8fe",
   "metadata": {},
   "outputs": [],
   "source": [
    "# Export bar chart\n",
    "mar_status_spend_bar.figure.savefig(os.path.join(path, '04 Analysis', 'Visualizations', 'mar_status_spend_bar.png'))"
   ]
  },
  {
   "cell_type": "code",
   "execution_count": 114,
   "id": "bb65a13f",
   "metadata": {
    "scrolled": false
   },
   "outputs": [
    {
     "data": {
      "text/plain": [
       "Text(0.5, 1.0, 'Order Frequency by Marital Status')"
      ]
     },
     "execution_count": 114,
     "metadata": {},
     "output_type": "execute_result"
    },
    {
     "data": {
      "image/png": "[encoded data removed]",
      "text/plain": [
       "<Figure size 432x288 with 1 Axes>"
      ]
     },
     "metadata": {
      "needs_background": "light"
     },
     "output_type": "display_data"
    }
   ],
   "source": [
    "# Create stacked bar chart to show order frequency by marital status\n",
    "mar_status_freq_bar = mar_status_frequency.plot(kind='bar', stacked=True, color = sns.color_palette('Reds', 3))\n",
    "plt.title('Order Frequency by Marital Status')"
   ]
  },
  {
   "cell_type": "code",
   "execution_count": 115,
   "id": "8c4944c8",
   "metadata": {},
   "outputs": [],
   "source": [
    "# Export bar chart\n",
    "mar_status_freq_bar.figure.savefig(os.path.join(path, '04 Analysis', 'Visualizations', 'mar_status_freq_bar.png'))"
   ]
  },
  {
   "cell_type": "code",
   "execution_count": 97,
   "id": "da94ca25",
   "metadata": {},
   "outputs": [
    {
     "data": {
      "text/plain": [
       "Text(0.5, 1.0, 'Orders by Department and Marital Status')"
      ]
     },
     "execution_count": 97,
     "metadata": {},
     "output_type": "execute_result"
    },
    {
     "data": {
      "image/png": "[encoded data removed]",
      "text/plain": [
       "<Figure size 432x288 with 1 Axes>"
      ]
     },
     "metadata": {
      "needs_background": "light"
     },
     "output_type": "display_data"
    }
   ],
   "source": [
    "# Create bar chart to show orders by department and marital status\n",
    "mar_status_dep_bar = mar_status_dep.plot(kind='bar', stacked = True, color = sns.color_palette('Reds', 4))\n",
    "plt.legend(loc='right', bbox_to_anchor=(1.0, 0.75))\n",
    "plt.title('Orders by Department and Marital Status')"
   ]
  },
  {
   "cell_type": "code",
   "execution_count": 131,
   "id": "c5041528",
   "metadata": {},
   "outputs": [],
   "source": [
    "# Export bar chart\n",
    "mar_status_dep_bar.figure.savefig(os.path.join(path, '04 Analysis', 'Visualizations', 'mar_status_dep_bar.png'))"
   ]
  },
  {
   "cell_type": "code",
   "execution_count": 129,
   "id": "8f80672a",
   "metadata": {},
   "outputs": [
    {
     "data": {
      "text/plain": [
       "Text(0.5, 1.0, 'Spending by Family Status')"
      ]
     },
     "execution_count": 129,
     "metadata": {},
     "output_type": "execute_result"
    },
    {
     "data": {
      "image/png": "[encoded data removed]",
      "text/plain": [
       "<Figure size 432x288 with 1 Axes>"
      ]
     },
     "metadata": {
      "needs_background": "light"
     },
     "output_type": "display_data"
    }
   ],
   "source": [
    "# Create stacked bar chart to show spending by family status\n",
    "fam_status_spend_bar = fam_status_spend.plot(kind='bar', stacked=True, color = sns.color_palette('Purples', 2))\n",
    "plt.title('Spending by Family Status')"
   ]
  },
  {
   "cell_type": "code",
   "execution_count": 132,
   "id": "43c983a9",
   "metadata": {},
   "outputs": [],
   "source": [
    "# Export bar chart\n",
    "fam_status_spend_bar.figure.savefig(os.path.join(path, '04 Analysis', 'Visualizations', 'fam_status_spend_bar.png'))"
   ]
  },
  {
   "cell_type": "code",
   "execution_count": 130,
   "id": "e94d01ee",
   "metadata": {},
   "outputs": [
    {
     "data": {
      "text/plain": [
       "Text(0.5, 1.0, 'Order Frequency by Family Status')"
      ]
     },
     "execution_count": 130,
     "metadata": {},
     "output_type": "execute_result"
    },
    {
     "data": {
      "image/png": "[encoded data removed]",
      "text/plain": [
       "<Figure size 432x288 with 1 Axes>"
      ]
     },
     "metadata": {
      "needs_background": "light"
     },
     "output_type": "display_data"
    }
   ],
   "source": [
    "# Create stacked bar chart to show order frequency by familiy status\n",
    "fam_status_freq_bar = fam_status_frequency.plot(kind='bar', stacked=True, color = sns.color_palette('Purples', 3))\n",
    "plt.title('Order Frequency by Family Status')"
   ]
  },
  {
   "cell_type": "code",
   "execution_count": 133,
   "id": "04cb64c7",
   "metadata": {},
   "outputs": [],
   "source": [
    "# Export bar chart\n",
    "fam_status_freq_bar.figure.savefig(os.path.join(path, '04 Analysis', 'Visualizations', 'fam_status_freq_bar.png'))"
   ]
  },
  {
   "cell_type": "code",
   "execution_count": 160,
   "id": "d8962169",
   "metadata": {},
   "outputs": [
    {
     "data": {
      "text/plain": [
       "Text(0.5, 1.0, 'Orders by Department and Family Status')"
      ]
     },
     "execution_count": 160,
     "metadata": {},
     "output_type": "execute_result"
    },
    {
     "data": {
      "image/png": "[encoded data removed]",
      "text/plain": [
       "<Figure size 432x288 with 1 Axes>"
      ]
     },
     "metadata": {
      "needs_background": "light"
     },
     "output_type": "display_data"
    }
   ],
   "source": [
    "# Create bar chart to show orders by department and family status\n",
    "fam_status_dep_bar = fam_status_dep.plot(kind='bar', stacked = True, color = sns.color_palette('Purples', 2))\n",
    "plt.legend(loc='right', bbox_to_anchor=(1.0, 0.75))\n",
    "plt.title('Orders by Department and Family Status')"
   ]
  },
  {
   "cell_type": "code",
   "execution_count": 137,
   "id": "72f0fade",
   "metadata": {},
   "outputs": [],
   "source": [
    "# Export bar chart\n",
    "fam_status_dep_bar.figure.savefig(os.path.join(path, '04 Analysis', 'Visualizations', 'fam_status_dep_bar.png'))"
   ]
  },
  {
   "cell_type": "code",
   "execution_count": 157,
   "id": "450cd4a8",
   "metadata": {},
   "outputs": [
    {
     "data": {
      "text/html": [
       "<div>\n",
       "<style scoped>\n",
       "    .dataframe tbody tr th:only-of-type {\n",
       "        vertical-align: middle;\n",
       "    }\n",
       "\n",
       "    .dataframe tbody tr th {\n",
       "        vertical-align: top;\n",
       "    }\n",
       "\n",
       "    .dataframe thead th {\n",
       "        text-align: right;\n",
       "    }\n",
       "</style>\n",
       "<table border=\"1\" class=\"dataframe\">\n",
       "  <thead>\n",
       "    <tr style=\"text-align: right;\">\n",
       "      <th></th>\n",
       "      <th>order_id</th>\n",
       "      <th>user_id</th>\n",
       "      <th>order_number</th>\n",
       "      <th>orders_day_of_week</th>\n",
       "      <th>order_hour_of_day</th>\n",
       "      <th>days_since_prior_order</th>\n",
       "      <th>first_order</th>\n",
       "      <th>product_id</th>\n",
       "      <th>add_to_cart_order</th>\n",
       "      <th>reordered</th>\n",
       "      <th>product_name</th>\n",
       "      <th>aisle_id</th>\n",
       "      <th>department_id</th>\n",
       "      <th>prices</th>\n",
       "      <th>price_label</th>\n",
       "      <th>Busiest_days</th>\n",
       "      <th>busiest_period_of_day</th>\n",
       "      <th>max_order</th>\n",
       "      <th>loyalty_flag</th>\n",
       "      <th>avg_price_per_order</th>\n",
       "      <th>spender_flag</th>\n",
       "      <th>order_frequency</th>\n",
       "      <th>order_frequency_flag</th>\n",
       "      <th>Gender</th>\n",
       "      <th>STATE</th>\n",
       "      <th>Age</th>\n",
       "      <th>date_joined</th>\n",
       "      <th>n_dependants</th>\n",
       "      <th>marital_status</th>\n",
       "      <th>income</th>\n",
       "      <th>_merge</th>\n",
       "      <th>Region</th>\n",
       "      <th>age_group</th>\n",
       "      <th>income_level</th>\n",
       "      <th>family_status_loc</th>\n",
       "      <th>department</th>\n",
       "    </tr>\n",
       "  </thead>\n",
       "  <tbody>\n",
       "    <tr>\n",
       "      <th>0</th>\n",
       "      <td>2539329.0</td>\n",
       "      <td>1.0</td>\n",
       "      <td>1.0</td>\n",
       "      <td>2.0</td>\n",
       "      <td>8.0</td>\n",
       "      <td>NaN</td>\n",
       "      <td>True</td>\n",
       "      <td>196.0</td>\n",
       "      <td>1.0</td>\n",
       "      <td>0.0</td>\n",
       "      <td>Soda</td>\n",
       "      <td>77.0</td>\n",
       "      <td>7.0</td>\n",
       "      <td>9.0</td>\n",
       "      <td>Mid-range product</td>\n",
       "      <td>Regular busy</td>\n",
       "      <td>Average orders</td>\n",
       "      <td>10.0</td>\n",
       "      <td>new customer</td>\n",
       "      <td>6.367797</td>\n",
       "      <td>Low Spender</td>\n",
       "      <td>20.259259</td>\n",
       "      <td>Non-frequent customer</td>\n",
       "      <td>Female</td>\n",
       "      <td>Alabama</td>\n",
       "      <td>31</td>\n",
       "      <td>2/17/2019</td>\n",
       "      <td>3</td>\n",
       "      <td>married</td>\n",
       "      <td>40423</td>\n",
       "      <td>both</td>\n",
       "      <td>South</td>\n",
       "      <td>young adult</td>\n",
       "      <td>low income</td>\n",
       "      <td>parent</td>\n",
       "      <td>beverages</td>\n",
       "    </tr>\n",
       "    <tr>\n",
       "      <th>1</th>\n",
       "      <td>2398795.0</td>\n",
       "      <td>1.0</td>\n",
       "      <td>2.0</td>\n",
       "      <td>3.0</td>\n",
       "      <td>7.0</td>\n",
       "      <td>15.0</td>\n",
       "      <td>False</td>\n",
       "      <td>196.0</td>\n",
       "      <td>1.0</td>\n",
       "      <td>1.0</td>\n",
       "      <td>Soda</td>\n",
       "      <td>77.0</td>\n",
       "      <td>7.0</td>\n",
       "      <td>9.0</td>\n",
       "      <td>Mid-range product</td>\n",
       "      <td>Slowest days</td>\n",
       "      <td>Average orders</td>\n",
       "      <td>10.0</td>\n",
       "      <td>new customer</td>\n",
       "      <td>6.367797</td>\n",
       "      <td>Low Spender</td>\n",
       "      <td>20.259259</td>\n",
       "      <td>Non-frequent customer</td>\n",
       "      <td>Female</td>\n",
       "      <td>Alabama</td>\n",
       "      <td>31</td>\n",
       "      <td>2/17/2019</td>\n",
       "      <td>3</td>\n",
       "      <td>married</td>\n",
       "      <td>40423</td>\n",
       "      <td>both</td>\n",
       "      <td>South</td>\n",
       "      <td>young adult</td>\n",
       "      <td>low income</td>\n",
       "      <td>parent</td>\n",
       "      <td>beverages</td>\n",
       "    </tr>\n",
       "    <tr>\n",
       "      <th>2</th>\n",
       "      <td>473747.0</td>\n",
       "      <td>1.0</td>\n",
       "      <td>3.0</td>\n",
       "      <td>3.0</td>\n",
       "      <td>12.0</td>\n",
       "      <td>21.0</td>\n",
       "      <td>False</td>\n",
       "      <td>196.0</td>\n",
       "      <td>1.0</td>\n",
       "      <td>1.0</td>\n",
       "      <td>Soda</td>\n",
       "      <td>77.0</td>\n",
       "      <td>7.0</td>\n",
       "      <td>9.0</td>\n",
       "      <td>Mid-range product</td>\n",
       "      <td>Slowest days</td>\n",
       "      <td>Average orders</td>\n",
       "      <td>10.0</td>\n",
       "      <td>new customer</td>\n",
       "      <td>6.367797</td>\n",
       "      <td>Low Spender</td>\n",
       "      <td>20.259259</td>\n",
       "      <td>Non-frequent customer</td>\n",
       "      <td>Female</td>\n",
       "      <td>Alabama</td>\n",
       "      <td>31</td>\n",
       "      <td>2/17/2019</td>\n",
       "      <td>3</td>\n",
       "      <td>married</td>\n",
       "      <td>40423</td>\n",
       "      <td>both</td>\n",
       "      <td>South</td>\n",
       "      <td>young adult</td>\n",
       "      <td>low income</td>\n",
       "      <td>parent</td>\n",
       "      <td>beverages</td>\n",
       "    </tr>\n",
       "    <tr>\n",
       "      <th>3</th>\n",
       "      <td>2254736.0</td>\n",
       "      <td>1.0</td>\n",
       "      <td>4.0</td>\n",
       "      <td>4.0</td>\n",
       "      <td>7.0</td>\n",
       "      <td>29.0</td>\n",
       "      <td>False</td>\n",
       "      <td>196.0</td>\n",
       "      <td>1.0</td>\n",
       "      <td>1.0</td>\n",
       "      <td>Soda</td>\n",
       "      <td>77.0</td>\n",
       "      <td>7.0</td>\n",
       "      <td>9.0</td>\n",
       "      <td>Mid-range product</td>\n",
       "      <td>Slowest days</td>\n",
       "      <td>Average orders</td>\n",
       "      <td>10.0</td>\n",
       "      <td>new customer</td>\n",
       "      <td>6.367797</td>\n",
       "      <td>Low Spender</td>\n",
       "      <td>20.259259</td>\n",
       "      <td>Non-frequent customer</td>\n",
       "      <td>Female</td>\n",
       "      <td>Alabama</td>\n",
       "      <td>31</td>\n",
       "      <td>2/17/2019</td>\n",
       "      <td>3</td>\n",
       "      <td>married</td>\n",
       "      <td>40423</td>\n",
       "      <td>both</td>\n",
       "      <td>South</td>\n",
       "      <td>young adult</td>\n",
       "      <td>low income</td>\n",
       "      <td>parent</td>\n",
       "      <td>beverages</td>\n",
       "    </tr>\n",
       "    <tr>\n",
       "      <th>4</th>\n",
       "      <td>431534.0</td>\n",
       "      <td>1.0</td>\n",
       "      <td>5.0</td>\n",
       "      <td>4.0</td>\n",
       "      <td>15.0</td>\n",
       "      <td>28.0</td>\n",
       "      <td>False</td>\n",
       "      <td>196.0</td>\n",
       "      <td>1.0</td>\n",
       "      <td>1.0</td>\n",
       "      <td>Soda</td>\n",
       "      <td>77.0</td>\n",
       "      <td>7.0</td>\n",
       "      <td>9.0</td>\n",
       "      <td>Mid-range product</td>\n",
       "      <td>Slowest days</td>\n",
       "      <td>Average orders</td>\n",
       "      <td>10.0</td>\n",
       "      <td>new customer</td>\n",
       "      <td>6.367797</td>\n",
       "      <td>Low Spender</td>\n",
       "      <td>20.259259</td>\n",
       "      <td>Non-frequent customer</td>\n",
       "      <td>Female</td>\n",
       "      <td>Alabama</td>\n",
       "      <td>31</td>\n",
       "      <td>2/17/2019</td>\n",
       "      <td>3</td>\n",
       "      <td>married</td>\n",
       "      <td>40423</td>\n",
       "      <td>both</td>\n",
       "      <td>South</td>\n",
       "      <td>young adult</td>\n",
       "      <td>low income</td>\n",
       "      <td>parent</td>\n",
       "      <td>beverages</td>\n",
       "    </tr>\n",
       "  </tbody>\n",
       "</table>\n",
       "</div>"
      ],
      "text/plain": [
       "    order_id  user_id  order_number  orders_day_of_week  order_hour_of_day  \\\n",
       "0  2539329.0      1.0           1.0                 2.0                8.0   \n",
       "1  2398795.0      1.0           2.0                 3.0                7.0   \n",
       "2   473747.0      1.0           3.0                 3.0               12.0   \n",
       "3  2254736.0      1.0           4.0                 4.0                7.0   \n",
       "4   431534.0      1.0           5.0                 4.0               15.0   \n",
       "\n",
       "   days_since_prior_order first_order  product_id  add_to_cart_order  \\\n",
       "0                     NaN        True       196.0                1.0   \n",
       "1                    15.0       False       196.0                1.0   \n",
       "2                    21.0       False       196.0                1.0   \n",
       "3                    29.0       False       196.0                1.0   \n",
       "4                    28.0       False       196.0                1.0   \n",
       "\n",
       "   reordered product_name  aisle_id  department_id  prices        price_label  \\\n",
       "0        0.0         Soda      77.0            7.0     9.0  Mid-range product   \n",
       "1        1.0         Soda      77.0            7.0     9.0  Mid-range product   \n",
       "2        1.0         Soda      77.0            7.0     9.0  Mid-range product   \n",
       "3        1.0         Soda      77.0            7.0     9.0  Mid-range product   \n",
       "4        1.0         Soda      77.0            7.0     9.0  Mid-range product   \n",
       "\n",
       "   Busiest_days busiest_period_of_day  max_order  loyalty_flag  \\\n",
       "0  Regular busy        Average orders       10.0  new customer   \n",
       "1  Slowest days        Average orders       10.0  new customer   \n",
       "2  Slowest days        Average orders       10.0  new customer   \n",
       "3  Slowest days        Average orders       10.0  new customer   \n",
       "4  Slowest days        Average orders       10.0  new customer   \n",
       "\n",
       "   avg_price_per_order spender_flag  order_frequency   order_frequency_flag  \\\n",
       "0             6.367797  Low Spender        20.259259  Non-frequent customer   \n",
       "1             6.367797  Low Spender        20.259259  Non-frequent customer   \n",
       "2             6.367797  Low Spender        20.259259  Non-frequent customer   \n",
       "3             6.367797  Low Spender        20.259259  Non-frequent customer   \n",
       "4             6.367797  Low Spender        20.259259  Non-frequent customer   \n",
       "\n",
       "   Gender    STATE  Age date_joined  n_dependants marital_status  income  \\\n",
       "0  Female  Alabama   31   2/17/2019             3        married   40423   \n",
       "1  Female  Alabama   31   2/17/2019             3        married   40423   \n",
       "2  Female  Alabama   31   2/17/2019             3        married   40423   \n",
       "3  Female  Alabama   31   2/17/2019             3        married   40423   \n",
       "4  Female  Alabama   31   2/17/2019             3        married   40423   \n",
       "\n",
       "  _merge Region    age_group income_level family_status_loc department  \n",
       "0   both  South  young adult   low income            parent  beverages  \n",
       "1   both  South  young adult   low income            parent  beverages  \n",
       "2   both  South  young adult   low income            parent  beverages  \n",
       "3   both  South  young adult   low income            parent  beverages  \n",
       "4   both  South  young adult   low income            parent  beverages  "
      ]
     },
     "execution_count": 157,
     "metadata": {},
     "output_type": "execute_result"
    }
   ],
   "source": [
    "ords_prods_all.head()"
   ]
  },
  {
   "cell_type": "code",
   "execution_count": 202,
   "id": "34631ce4",
   "metadata": {},
   "outputs": [
    {
     "data": {
      "text/plain": [
       "Text(0.5, 1.0, 'User Income Level by Age')"
      ]
     },
     "execution_count": 202,
     "metadata": {},
     "output_type": "execute_result"
    },
    {
     "data": {
      "image/png": "[encoded data removed]",
      "text/plain": [
       "<Figure size 432x288 with 1 Axes>"
      ]
     },
     "metadata": {
      "needs_background": "light"
     },
     "output_type": "display_data"
    }
   ],
   "source": [
    "# Create bar chart to show user income by age \n",
    "age_income_bar = age_income.plot(kind='bar', stacked = True, color = sns.color_palette(\"YlOrBr\"))\n",
    "plt.legend(loc='right', bbox_to_anchor=(1.0, 0.75))\n",
    "plt.title('User Income Level by Age')"
   ]
  },
  {
   "cell_type": "code",
   "execution_count": 203,
   "id": "f8526208",
   "metadata": {},
   "outputs": [],
   "source": [
    "# Export bar chart\n",
    "age_income_bar.figure.savefig(os.path.join(path, '04 Analysis', 'Visualizations', 'age_income_bar.png'))"
   ]
  },
  {
   "cell_type": "code",
   "execution_count": 188,
   "id": "c78ab73a",
   "metadata": {},
   "outputs": [
    {
     "data": {
      "text/plain": [
       "Text(0.5, 1.0, 'Order Frequency by Income Level')"
      ]
     },
     "execution_count": 188,
     "metadata": {},
     "output_type": "execute_result"
    },
    {
     "data": {
      "image/png": "[encoded data removed]",
      "text/plain": [
       "<Figure size 432x288 with 1 Axes>"
      ]
     },
     "metadata": {
      "needs_background": "light"
     },
     "output_type": "display_data"
    }
   ],
   "source": [
    "# Create bar chart to show order frequency by income level\n",
    "income_order_bar = income_order.plot(kind='bar', stacked = True, color = sns.color_palette(\"YlOrBr\"))\n",
    "plt.legend(loc='right', bbox_to_anchor=(1.0, 0.75))\n",
    "plt.title('Order Frequency by Income Level')"
   ]
  },
  {
   "cell_type": "code",
   "execution_count": 200,
   "id": "0951dc7f",
   "metadata": {},
   "outputs": [],
   "source": [
    "# Export bar chart\n",
    "income_order_bar.figure.savefig(os.path.join(path, '04 Analysis', 'Visualizations', 'income_order_bar.png'))"
   ]
  },
  {
   "cell_type": "code",
   "execution_count": 193,
   "id": "019fff04",
   "metadata": {},
   "outputs": [
    {
     "data": {
      "text/plain": [
       "Text(0.5, 1.0, 'Orders by Department and Income Level')"
      ]
     },
     "execution_count": 193,
     "metadata": {},
     "output_type": "execute_result"
    },
    {
     "data": {
      "image/png": "[encoded data removed]",
      "text/plain": [
       "<Figure size 432x288 with 1 Axes>"
      ]
     },
     "metadata": {
      "needs_background": "light"
     },
     "output_type": "display_data"
    }
   ],
   "source": [
    "# Create bar chart to show order frequency by income level\n",
    "income_dep_bar = income_dep.plot(kind='bar', stacked = True, color = sns.color_palette(\"YlOrBr\"))\n",
    "plt.legend(loc='right', bbox_to_anchor=(1.0, 0.75))\n",
    "plt.title('Orders by Department and Income Level')"
   ]
  },
  {
   "cell_type": "code",
   "execution_count": 201,
   "id": "d627619f",
   "metadata": {},
   "outputs": [],
   "source": [
    "# Export bar chart\n",
    "income_dep_bar.figure.savefig(os.path.join(path, '04 Analysis', 'Visualizations', 'income_dep_bar.png'))"
   ]
  },
  {
   "cell_type": "code",
   "execution_count": 222,
   "id": "93f92fb1",
   "metadata": {},
   "outputs": [
    {
     "data": {
      "text/plain": [
       "Text(0.5, 1.0, 'Orders by Age Group and Day of Week')"
      ]
     },
     "execution_count": 222,
     "metadata": {},
     "output_type": "execute_result"
    },
    {
     "data": {
      "image/png": "[encoded data removed]",
      "text/plain": [
       "<Figure size 432x288 with 1 Axes>"
      ]
     },
     "metadata": {
      "needs_background": "light"
     },
     "output_type": "display_data"
    }
   ],
   "source": [
    "# Create bar chart to show order frequency by income level\n",
    "age_day_bar = age_day.plot(kind='bar', stacked = True, color = sns.color_palette(\"rocket\"))\n",
    "plt.legend(loc='right', bbox_to_anchor=(1.0, 0.75))\n",
    "plt.title('Orders by Age Group and Day of Week')"
   ]
  },
  {
   "cell_type": "code",
   "execution_count": null,
   "id": "ef576cd1",
   "metadata": {},
   "outputs": [],
   "source": [
    "# Export bar chart\n",
    "age_day_bar.figure.savefig(os.path.join(path, '04 Analysis', 'Visualizations', 'age_day_bar.png'))"
   ]
  },
  {
   "cell_type": "code",
   "execution_count": 216,
   "id": "a6766725",
   "metadata": {},
   "outputs": [
    {
     "data": {
      "text/plain": [
       "Text(0.5, 1.0, 'Orders by Income Level and Price Range')"
      ]
     },
     "execution_count": 216,
     "metadata": {},
     "output_type": "execute_result"
    },
    {
     "data": {
      "image/png": "[encoded data removed]",
      "text/plain": [
       "<Figure size 432x288 with 1 Axes>"
      ]
     },
     "metadata": {
      "needs_background": "light"
     },
     "output_type": "display_data"
    }
   ],
   "source": [
    "# Create bar chart to show order frequency by income level\n",
    "price_income_bar = test1.plot(kind='bar', stacked = True, color = sns.color_palette(\"YlOrBr\"))\n",
    "plt.legend(loc='right', bbox_to_anchor=(1.0, 0.75))\n",
    "plt.title('Orders by Income Level and Price Range')"
   ]
  },
  {
   "cell_type": "code",
   "execution_count": 217,
   "id": "69cf651c",
   "metadata": {},
   "outputs": [],
   "source": [
    "# Export bar chart\n",
    "price_income_bar.figure.savefig(os.path.join(path, '04 Analysis', 'Visualizations', 'price_income_bar.png'))"
   ]
  },
  {
   "cell_type": "code",
   "execution_count": null,
   "id": "c9568e7b",
   "metadata": {},
   "outputs": [],
   "source": []
  }
 ],
 "metadata": {
  "kernelspec": {
   "display_name": "Python 3 (ipykernel)",
   "language": "python",
   "name": "python3"
  },
  "language_info": {
   "codemirror_mode": {
    "name": "ipython",
    "version": 3
   },
   "file_extension": ".py",
   "mimetype": "text/x-python",
   "name": "python",
   "nbconvert_exporter": "python",
   "pygments_lexer": "ipython3",
   "version": "3.9.7"
  }
 },
 "nbformat": 4,
 "nbformat_minor": 5
}
